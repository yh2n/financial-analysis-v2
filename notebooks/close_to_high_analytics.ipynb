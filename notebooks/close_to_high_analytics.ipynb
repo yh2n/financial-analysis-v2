{
 "cells": [
  {
   "cell_type": "code",
   "execution_count": 1,
   "metadata": {},
   "outputs": [],
   "source": [
    "%load_ext autoreload\n",
    "%autoreload 2\n",
    "%matplotlib inline\n",
    "\n",
    "import sys\n",
    "\n",
    "import pandas as pd\n",
    "import numpy as np\n",
    "import matplotlib.pyplot as plt\n",
    "import seaborn as sns\n",
    "\n",
    "sys.path.append('../src')\n",
    "from utils import tiingo_api as tiingo\n",
    "\n",
    "from pathlib import Path\n",
    "from collections import defaultdict\n",
    "\n",
    "plt.style.use('seaborn')\n",
    "plt.rcParams['figure.figsize'] = (15, 5)\n",
    "\n",
    "DATA_PATH = Path('../scorecard/data')\n",
    "BASKET_NAME = 'scorecard_single_ticker'\n",
    "TICKER_PATH = DATA_PATH / '{}.csv'.format(BASKET_NAME)"
   ]
  },
  {
   "cell_type": "code",
   "execution_count": 2,
   "metadata": {},
   "outputs": [
    {
     "data": {
      "text/plain": [
       "0       AAL\n",
       "1      AAPL\n",
       "2      ABNB\n",
       "3      ACIA\n",
       "4      ADBE\n",
       "       ... \n",
       "160     ZEN\n",
       "161      ZG\n",
       "162      ZM\n",
       "163    ZNGA\n",
       "164      ZS\n",
       "Name: Ticker, Length: 165, dtype: object"
      ]
     },
     "execution_count": 2,
     "metadata": {},
     "output_type": "execute_result"
    }
   ],
   "source": [
    "tickers = pd.read_csv(TICKER_PATH, header=None, names=['Ticker'], squeeze=True)\n",
    "tickers"
   ]
  },
  {
   "cell_type": "code",
   "execution_count": 3,
   "metadata": {},
   "outputs": [
    {
     "name": "stdout",
     "output_type": "stream",
     "text": [
      "Found existing price file. Reading...\n",
      "Prices read from:  ../scorecard/data/prc_scorecard_single_ticker_2005-01-01_2021-02-04_Y.csv\n"
     ]
    }
   ],
   "source": [
    "start = tiingo.DEFAULT_START\n",
    "end = tiingo.TODAY\n",
    "\n",
    "price_filename = '_'.join(['prc', BASKET_NAME, start, end, 'Y']) + '.csv'\n",
    "price_filepath = DATA_PATH / price_filename\n",
    "\n",
    "if Path(price_filepath).exists():\n",
    "    print(\"Found existing price file. Reading...\")\n",
    "    all_prices = pd.read_csv(price_filepath, header=[0,1], index_col=0,\n",
    "                         parse_dates=True)\n",
    "    print(\"Prices read from: \", price_filepath)\n",
    "else:\n",
    "    all_prices = tiingo.get_prices(\n",
    "        tickers, start, end,\n",
    "        out_path=price_filepath,\n",
    "        verbose=False)"
   ]
  },
  {
   "cell_type": "code",
   "execution_count": 4,
   "metadata": {},
   "outputs": [],
   "source": [
    "close_prices = all_prices['adjClose']\n",
    "hi_prices = all_prices['adjHigh']"
   ]
  },
  {
   "cell_type": "code",
   "execution_count": 5,
   "metadata": {},
   "outputs": [],
   "source": [
    "import strats.threshold_momentum as tm\n",
    "\n",
    "all_stats = []\n",
    "last_3y_stats = []\n",
    "MOVE_THRESHOLDS = [0.02, 0.03, 0.04, 0.05]\n",
    "\n",
    "for threshold in MOVE_THRESHOLDS:\n",
    "    returns = tm.threshold_momentum_returns(close_prices, hi_prices, threshold)\n",
    "    last_3y_returns = tm.threshold_momentum_returns(\n",
    "        close_prices.last('3Y'), hi_prices.last('3Y'), threshold)\n",
    "    \n",
    "    all_stats.extend(tm.calculate_stats(returns, threshold))\n",
    "    last_3y_stats.extend(\n",
    "        tm.calculate_stats(last_3y_returns, threshold))\n",
    "\n",
    "stats_df = pd.DataFrame(all_stats)\n",
    "last_3y_stats_df = pd.DataFrame(last_3y_stats)"
   ]
  },
  {
   "cell_type": "code",
   "execution_count": 6,
   "metadata": {},
   "outputs": [
    {
     "name": "stdout",
     "output_type": "stream",
     "text": [
      "Stats from 2005-01-01\n"
     ]
    },
    {
     "data": {
      "text/html": [
       "<div>\n",
       "<style scoped>\n",
       "    .dataframe tbody tr th:only-of-type {\n",
       "        vertical-align: middle;\n",
       "    }\n",
       "\n",
       "    .dataframe tbody tr th {\n",
       "        vertical-align: top;\n",
       "    }\n",
       "\n",
       "    .dataframe thead th {\n",
       "        text-align: right;\n",
       "    }\n",
       "</style>\n",
       "<table border=\"1\" class=\"dataframe\">\n",
       "  <thead>\n",
       "    <tr style=\"text-align: right;\">\n",
       "      <th></th>\n",
       "      <th>ticker</th>\n",
       "      <th>mean</th>\n",
       "      <th>threshold</th>\n",
       "      <th>sharpe</th>\n",
       "      <th>count</th>\n",
       "      <th>count_pos</th>\n",
       "      <th>count_neg</th>\n",
       "      <th>std</th>\n",
       "    </tr>\n",
       "  </thead>\n",
       "  <tbody>\n",
       "    <tr>\n",
       "      <th>167</th>\n",
       "      <td>ABNB</td>\n",
       "      <td>0.069220</td>\n",
       "      <td>0.03</td>\n",
       "      <td>1.743796</td>\n",
       "      <td>12</td>\n",
       "      <td>12</td>\n",
       "      <td>0</td>\n",
       "      <td>0.039695</td>\n",
       "    </tr>\n",
       "    <tr>\n",
       "      <th>332</th>\n",
       "      <td>ABNB</td>\n",
       "      <td>0.068849</td>\n",
       "      <td>0.04</td>\n",
       "      <td>1.654596</td>\n",
       "      <td>11</td>\n",
       "      <td>11</td>\n",
       "      <td>0</td>\n",
       "      <td>0.041611</td>\n",
       "    </tr>\n",
       "    <tr>\n",
       "      <th>497</th>\n",
       "      <td>ABNB</td>\n",
       "      <td>0.069975</td>\n",
       "      <td>0.05</td>\n",
       "      <td>1.601820</td>\n",
       "      <td>10</td>\n",
       "      <td>10</td>\n",
       "      <td>0</td>\n",
       "      <td>0.043685</td>\n",
       "    </tr>\n",
       "    <tr>\n",
       "      <th>2</th>\n",
       "      <td>ABNB</td>\n",
       "      <td>0.065056</td>\n",
       "      <td>0.02</td>\n",
       "      <td>1.592027</td>\n",
       "      <td>13</td>\n",
       "      <td>13</td>\n",
       "      <td>0</td>\n",
       "      <td>0.040864</td>\n",
       "    </tr>\n",
       "    <tr>\n",
       "      <th>602</th>\n",
       "      <td>PING</td>\n",
       "      <td>0.030578</td>\n",
       "      <td>0.05</td>\n",
       "      <td>1.379523</td>\n",
       "      <td>31</td>\n",
       "      <td>28</td>\n",
       "      <td>3</td>\n",
       "      <td>0.022166</td>\n",
       "    </tr>\n",
       "    <tr>\n",
       "      <th>272</th>\n",
       "      <td>PING</td>\n",
       "      <td>0.035179</td>\n",
       "      <td>0.03</td>\n",
       "      <td>1.348072</td>\n",
       "      <td>70</td>\n",
       "      <td>67</td>\n",
       "      <td>3</td>\n",
       "      <td>0.026096</td>\n",
       "    </tr>\n",
       "    <tr>\n",
       "      <th>288</th>\n",
       "      <td>SNOW</td>\n",
       "      <td>0.054093</td>\n",
       "      <td>0.03</td>\n",
       "      <td>1.325850</td>\n",
       "      <td>20</td>\n",
       "      <td>19</td>\n",
       "      <td>1</td>\n",
       "      <td>0.040798</td>\n",
       "    </tr>\n",
       "    <tr>\n",
       "      <th>437</th>\n",
       "      <td>PING</td>\n",
       "      <td>0.033463</td>\n",
       "      <td>0.04</td>\n",
       "      <td>1.294977</td>\n",
       "      <td>51</td>\n",
       "      <td>48</td>\n",
       "      <td>3</td>\n",
       "      <td>0.025840</td>\n",
       "    </tr>\n",
       "    <tr>\n",
       "      <th>375</th>\n",
       "      <td>DKNG</td>\n",
       "      <td>0.056229</td>\n",
       "      <td>0.04</td>\n",
       "      <td>1.275543</td>\n",
       "      <td>64</td>\n",
       "      <td>59</td>\n",
       "      <td>5</td>\n",
       "      <td>0.044083</td>\n",
       "    </tr>\n",
       "    <tr>\n",
       "      <th>84</th>\n",
       "      <td>MCFE</td>\n",
       "      <td>0.042487</td>\n",
       "      <td>0.02</td>\n",
       "      <td>1.257091</td>\n",
       "      <td>20</td>\n",
       "      <td>19</td>\n",
       "      <td>1</td>\n",
       "      <td>0.033798</td>\n",
       "    </tr>\n",
       "  </tbody>\n",
       "</table>\n",
       "</div>"
      ],
      "text/plain": [
       "    ticker      mean  threshold    sharpe  count  count_pos  count_neg  \\\n",
       "167   ABNB  0.069220       0.03  1.743796     12         12          0   \n",
       "332   ABNB  0.068849       0.04  1.654596     11         11          0   \n",
       "497   ABNB  0.069975       0.05  1.601820     10         10          0   \n",
       "2     ABNB  0.065056       0.02  1.592027     13         13          0   \n",
       "602   PING  0.030578       0.05  1.379523     31         28          3   \n",
       "272   PING  0.035179       0.03  1.348072     70         67          3   \n",
       "288   SNOW  0.054093       0.03  1.325850     20         19          1   \n",
       "437   PING  0.033463       0.04  1.294977     51         48          3   \n",
       "375   DKNG  0.056229       0.04  1.275543     64         59          5   \n",
       "84    MCFE  0.042487       0.02  1.257091     20         19          1   \n",
       "\n",
       "          std  \n",
       "167  0.039695  \n",
       "332  0.041611  \n",
       "497  0.043685  \n",
       "2    0.040864  \n",
       "602  0.022166  \n",
       "272  0.026096  \n",
       "288  0.040798  \n",
       "437  0.025840  \n",
       "375  0.044083  \n",
       "84   0.033798  "
      ]
     },
     "execution_count": 6,
     "metadata": {},
     "output_type": "execute_result"
    }
   ],
   "source": [
    "print(f'Stats from {start}')\n",
    "stats_df.sort_values('sharpe', ascending=False).head(10)"
   ]
  },
  {
   "cell_type": "code",
   "execution_count": 13,
   "metadata": {},
   "outputs": [
    {
     "data": {
      "image/png": "[encoded data removed]",
      "text/plain": [
       "<Figure size 1080x360 with 1 Axes>"
      ]
     },
     "metadata": {},
     "output_type": "display_data"
    }
   ],
   "source": [
    "def compare_returns(close_prices, strategy_returns, threshold, ticker):\n",
    "    ticker_start = close_prices[ticker].first_valid_index()\n",
    "\n",
    "    close_returns = close_prices[ticker].pct_change()\n",
    "#     close_returns.plot()\n",
    "    close_returns = close_returns[close_returns > threshold]\n",
    "    plt.vlines(\n",
    "        close_returns.index, 0, close_returns,\n",
    "        color='green', linestyle='-', label=f'Returns exceeding {threshold * 100}%')\n",
    "    strategy_returns[ticker].loc[ticker_start:].fillna(0).plot(label='Momentum strategy returns')\n",
    "\n",
    "    plt.legend()\n",
    "    plt.title(ticker)\n",
    "    \n",
    "compare_returns(close_prices, returns, threshold, 'ABNB')"
   ]
  },
  {
   "cell_type": "code",
   "execution_count": 14,
   "metadata": {},
   "outputs": [
    {
     "data": {
      "image/png": "[encoded data removed]",
      "text/plain": [
       "<Figure size 1080x360 with 1 Axes>"
      ]
     },
     "metadata": {},
     "output_type": "display_data"
    }
   ],
   "source": [
    "compare_returns(close_prices, returns, threshold, 'PING')"
   ]
  },
  {
   "cell_type": "code",
   "execution_count": 17,
   "metadata": {},
   "outputs": [
    {
     "name": "stdout",
     "output_type": "stream",
     "text": [
      "Stats from 2019-01-02\n"
     ]
    },
    {
     "data": {
      "text/html": [
       "<div>\n",
       "<style scoped>\n",
       "    .dataframe tbody tr th:only-of-type {\n",
       "        vertical-align: middle;\n",
       "    }\n",
       "\n",
       "    .dataframe tbody tr th {\n",
       "        vertical-align: top;\n",
       "    }\n",
       "\n",
       "    .dataframe thead th {\n",
       "        text-align: right;\n",
       "    }\n",
       "</style>\n",
       "<table border=\"1\" class=\"dataframe\">\n",
       "  <thead>\n",
       "    <tr style=\"text-align: right;\">\n",
       "      <th></th>\n",
       "      <th>Ticker</th>\n",
       "      <th>Mean</th>\n",
       "      <th>Threshold</th>\n",
       "      <th>Sharpe</th>\n",
       "      <th>Count</th>\n",
       "      <th>count_pos</th>\n",
       "      <th>count_neg</th>\n",
       "      <th>Std Dev</th>\n",
       "    </tr>\n",
       "  </thead>\n",
       "  <tbody>\n",
       "    <tr>\n",
       "      <th>167</th>\n",
       "      <td>ABNB</td>\n",
       "      <td>0.069220</td>\n",
       "      <td>0.03</td>\n",
       "      <td>1.743796</td>\n",
       "      <td>12</td>\n",
       "      <td>12</td>\n",
       "      <td>0</td>\n",
       "      <td>0.039695</td>\n",
       "    </tr>\n",
       "    <tr>\n",
       "      <th>332</th>\n",
       "      <td>ABNB</td>\n",
       "      <td>0.068849</td>\n",
       "      <td>0.04</td>\n",
       "      <td>1.654596</td>\n",
       "      <td>11</td>\n",
       "      <td>11</td>\n",
       "      <td>0</td>\n",
       "      <td>0.041611</td>\n",
       "    </tr>\n",
       "    <tr>\n",
       "      <th>497</th>\n",
       "      <td>ABNB</td>\n",
       "      <td>0.069975</td>\n",
       "      <td>0.05</td>\n",
       "      <td>1.601820</td>\n",
       "      <td>10</td>\n",
       "      <td>10</td>\n",
       "      <td>0</td>\n",
       "      <td>0.043685</td>\n",
       "    </tr>\n",
       "    <tr>\n",
       "      <th>2</th>\n",
       "      <td>ABNB</td>\n",
       "      <td>0.065056</td>\n",
       "      <td>0.02</td>\n",
       "      <td>1.592027</td>\n",
       "      <td>13</td>\n",
       "      <td>13</td>\n",
       "      <td>0</td>\n",
       "      <td>0.040864</td>\n",
       "    </tr>\n",
       "    <tr>\n",
       "      <th>658</th>\n",
       "      <td>ZNGA</td>\n",
       "      <td>0.039320</td>\n",
       "      <td>0.05</td>\n",
       "      <td>1.569727</td>\n",
       "      <td>9</td>\n",
       "      <td>9</td>\n",
       "      <td>0</td>\n",
       "      <td>0.025049</td>\n",
       "    </tr>\n",
       "    <tr>\n",
       "      <th>602</th>\n",
       "      <td>PING</td>\n",
       "      <td>0.030578</td>\n",
       "      <td>0.05</td>\n",
       "      <td>1.379523</td>\n",
       "      <td>31</td>\n",
       "      <td>28</td>\n",
       "      <td>3</td>\n",
       "      <td>0.022166</td>\n",
       "    </tr>\n",
       "    <tr>\n",
       "      <th>272</th>\n",
       "      <td>PING</td>\n",
       "      <td>0.035179</td>\n",
       "      <td>0.03</td>\n",
       "      <td>1.348072</td>\n",
       "      <td>70</td>\n",
       "      <td>67</td>\n",
       "      <td>3</td>\n",
       "      <td>0.026096</td>\n",
       "    </tr>\n",
       "    <tr>\n",
       "      <th>288</th>\n",
       "      <td>SNOW</td>\n",
       "      <td>0.054093</td>\n",
       "      <td>0.03</td>\n",
       "      <td>1.325850</td>\n",
       "      <td>20</td>\n",
       "      <td>19</td>\n",
       "      <td>1</td>\n",
       "      <td>0.040798</td>\n",
       "    </tr>\n",
       "    <tr>\n",
       "      <th>333</th>\n",
       "      <td>ACIA</td>\n",
       "      <td>0.019744</td>\n",
       "      <td>0.04</td>\n",
       "      <td>1.300288</td>\n",
       "      <td>11</td>\n",
       "      <td>11</td>\n",
       "      <td>0</td>\n",
       "      <td>0.015184</td>\n",
       "    </tr>\n",
       "    <tr>\n",
       "      <th>437</th>\n",
       "      <td>PING</td>\n",
       "      <td>0.033463</td>\n",
       "      <td>0.04</td>\n",
       "      <td>1.294977</td>\n",
       "      <td>51</td>\n",
       "      <td>48</td>\n",
       "      <td>3</td>\n",
       "      <td>0.025840</td>\n",
       "    </tr>\n",
       "  </tbody>\n",
       "</table>\n",
       "</div>"
      ],
      "text/plain": [
       "    Ticker      Mean  Threshold    Sharpe  Count  count_pos  count_neg  \\\n",
       "167   ABNB  0.069220       0.03  1.743796     12         12          0   \n",
       "332   ABNB  0.068849       0.04  1.654596     11         11          0   \n",
       "497   ABNB  0.069975       0.05  1.601820     10         10          0   \n",
       "2     ABNB  0.065056       0.02  1.592027     13         13          0   \n",
       "658   ZNGA  0.039320       0.05  1.569727      9          9          0   \n",
       "602   PING  0.030578       0.05  1.379523     31         28          3   \n",
       "272   PING  0.035179       0.03  1.348072     70         67          3   \n",
       "288   SNOW  0.054093       0.03  1.325850     20         19          1   \n",
       "333   ACIA  0.019744       0.04  1.300288     11         11          0   \n",
       "437   PING  0.033463       0.04  1.294977     51         48          3   \n",
       "\n",
       "      Std Dev  \n",
       "167  0.039695  \n",
       "332  0.041611  \n",
       "497  0.043685  \n",
       "2    0.040864  \n",
       "658  0.025049  \n",
       "602  0.022166  \n",
       "272  0.026096  \n",
       "288  0.040798  \n",
       "333  0.015184  \n",
       "437  0.025840  "
      ]
     },
     "execution_count": 17,
     "metadata": {},
     "output_type": "execute_result"
    }
   ],
   "source": [
    "print(f\"Stats from {close_prices.last('3Y').index[0].date()}\")\n",
    "last_3y_stats_df.sort_values('Sharpe', ascending=False).head(10)"
   ]
  },
  {
   "cell_type": "code",
   "execution_count": 102,
   "metadata": {},
   "outputs": [],
   "source": [
    "# sell_counts = stats_df.loc[stats_df['threshold'] == 0.05, ['ticker', 'count']]\n",
    "# sell_counts = sell_counts.set_index('ticker')['count']\n",
    "\n",
    "# random_returns = tm.random_close_to_high_returns(\n",
    "#     close_prices, hi_prices, default_count=100)\n",
    "# random_returns.sort_values('sharpe', ascending=False).head(10)"
   ]
  },
  {
   "cell_type": "markdown",
   "metadata": {},
   "source": [
    "# Evaluating Sharpe values using bootstrap sampling\n",
    "\n",
    "Let's look at AirBnB for `threshold = 0.05`."
   ]
  },
  {
   "cell_type": "code",
   "execution_count": 90,
   "metadata": {},
   "outputs": [
    {
     "data": {
      "text/html": [
       "<div>\n",
       "<style scoped>\n",
       "    .dataframe tbody tr th:only-of-type {\n",
       "        vertical-align: middle;\n",
       "    }\n",
       "\n",
       "    .dataframe tbody tr th {\n",
       "        vertical-align: top;\n",
       "    }\n",
       "\n",
       "    .dataframe thead th {\n",
       "        text-align: right;\n",
       "    }\n",
       "</style>\n",
       "<table border=\"1\" class=\"dataframe\">\n",
       "  <thead>\n",
       "    <tr style=\"text-align: right;\">\n",
       "      <th></th>\n",
       "      <th>ticker</th>\n",
       "      <th>mean</th>\n",
       "      <th>threshold</th>\n",
       "      <th>sharpe</th>\n",
       "      <th>count</th>\n",
       "      <th>count_pos</th>\n",
       "      <th>count_neg</th>\n",
       "      <th>std</th>\n",
       "    </tr>\n",
       "  </thead>\n",
       "  <tbody>\n",
       "    <tr>\n",
       "      <th>2</th>\n",
       "      <td>ABNB</td>\n",
       "      <td>0.065056</td>\n",
       "      <td>0.02</td>\n",
       "      <td>1.592027</td>\n",
       "      <td>13</td>\n",
       "      <td>13</td>\n",
       "      <td>0</td>\n",
       "      <td>0.040864</td>\n",
       "    </tr>\n",
       "    <tr>\n",
       "      <th>167</th>\n",
       "      <td>ABNB</td>\n",
       "      <td>0.069220</td>\n",
       "      <td>0.03</td>\n",
       "      <td>1.743796</td>\n",
       "      <td>12</td>\n",
       "      <td>12</td>\n",
       "      <td>0</td>\n",
       "      <td>0.039695</td>\n",
       "    </tr>\n",
       "    <tr>\n",
       "      <th>332</th>\n",
       "      <td>ABNB</td>\n",
       "      <td>0.068849</td>\n",
       "      <td>0.04</td>\n",
       "      <td>1.654596</td>\n",
       "      <td>11</td>\n",
       "      <td>11</td>\n",
       "      <td>0</td>\n",
       "      <td>0.041611</td>\n",
       "    </tr>\n",
       "    <tr>\n",
       "      <th>497</th>\n",
       "      <td>ABNB</td>\n",
       "      <td>0.069975</td>\n",
       "      <td>0.05</td>\n",
       "      <td>1.601820</td>\n",
       "      <td>10</td>\n",
       "      <td>10</td>\n",
       "      <td>0</td>\n",
       "      <td>0.043685</td>\n",
       "    </tr>\n",
       "  </tbody>\n",
       "</table>\n",
       "</div>"
      ],
      "text/plain": [
       "    ticker      mean  threshold    sharpe  count  count_pos  count_neg  \\\n",
       "2     ABNB  0.065056       0.02  1.592027     13         13          0   \n",
       "167   ABNB  0.069220       0.03  1.743796     12         12          0   \n",
       "332   ABNB  0.068849       0.04  1.654596     11         11          0   \n",
       "497   ABNB  0.069975       0.05  1.601820     10         10          0   \n",
       "\n",
       "          std  \n",
       "2    0.040864  \n",
       "167  0.039695  \n",
       "332  0.041611  \n",
       "497  0.043685  "
      ]
     },
     "execution_count": 90,
     "metadata": {},
     "output_type": "execute_result"
    }
   ],
   "source": [
    "stats_df[(stats_df['ticker'] == 'ABNB')]"
   ]
  },
  {
   "cell_type": "code",
   "execution_count": 72,
   "metadata": {},
   "outputs": [],
   "source": [
    "close_to_high = (hi_prices - close_prices.shift()) / close_prices.shift()"
   ]
  },
  {
   "cell_type": "code",
   "execution_count": 104,
   "metadata": {},
   "outputs": [
    {
     "data": {
      "text/plain": [
       "<matplotlib.collections.LineCollection at 0x13e8c5590>"
      ]
     },
     "execution_count": 104,
     "metadata": {},
     "output_type": "execute_result"
    },
    {
     "data": {
      "image/png": "[encoded data removed]",
      "text/plain": [
       "<Figure size 1080x360 with 1 Axes>"
      ]
     },
     "metadata": {},
     "output_type": "display_data"
    }
   ],
   "source": [
    "airbnb_stats = stats_df.loc[497]\n",
    "\n",
    "res = bootstrap(\n",
    "    close_to_high['ABNB'],\n",
    "    lambda x: x.std(),\n",
    "    airbnb_stats['count'], 10000)\n",
    "\n",
    "sns.histplot(res)\n",
    "plt.title('Bootstrap distribution of stddev')\n",
    "plt.vlines(\n",
    "    [airbnb_stats['std']],\n",
    "    0, 500, linestyle='--', color='orange')"
   ]
  },
  {
   "cell_type": "code",
   "execution_count": 96,
   "metadata": {},
   "outputs": [
    {
     "data": {
      "text/plain": [
       "<matplotlib.collections.LineCollection at 0x13f036590>"
      ]
     },
     "execution_count": 96,
     "metadata": {},
     "output_type": "execute_result"
    },
    {
     "data": {
      "image/png": "[encoded data removed]",
      "text/plain": [
       "<Figure size 1080x360 with 1 Axes>"
      ]
     },
     "metadata": {},
     "output_type": "display_data"
    }
   ],
   "source": [
    "res = bootstrap(\n",
    "    close_to_high['ABNB'],\n",
    "    lambda x: x.mean(),\n",
    "    airbnb_stats['count'], 10000)\n",
    "\n",
    "sns.histplot(res)\n",
    "plt.title('Bootstrap distribution of mean')\n",
    "plt.vlines(\n",
    "    [airbnb_stats['mean']],\n",
    "    0, 500, linestyle='--', color='orange')"
   ]
  },
  {
   "cell_type": "code",
   "execution_count": 105,
   "metadata": {},
   "outputs": [
    {
     "data": {
      "text/plain": [
       "<matplotlib.collections.LineCollection at 0x13f4ce910>"
      ]
     },
     "execution_count": 105,
     "metadata": {},
     "output_type": "execute_result"
    },
    {
     "data": {
      "image/png": "[encoded data removed]",
      "text/plain": [
       "<Figure size 1080x360 with 1 Axes>"
      ]
     },
     "metadata": {},
     "output_type": "display_data"
    }
   ],
   "source": [
    "res = bootstrap(\n",
    "    close_to_high['ABNB'],\n",
    "    lambda x: x.mean() / x.std(),\n",
    "    airbnb_stats['count'], 10000)\n",
    "\n",
    "sns.histplot(res)\n",
    "plt.title('Bootstrap distribution of Sharpe')\n",
    "plt.vlines(\n",
    "    [airbnb_stats['sharpe']],\n",
    "    0, 500, linestyle='--', color='orange')"
   ]
  },
  {
   "cell_type": "code",
   "execution_count": 114,
   "metadata": {},
   "outputs": [
    {
     "data": {
      "text/plain": [
       "0.0"
      ]
     },
     "execution_count": 114,
     "metadata": {},
     "output_type": "execute_result"
    }
   ],
   "source": [
    "np.mean([sharpe > airbnb_stats['sharpe'] for sharpe in res])"
   ]
  },
  {
   "cell_type": "markdown",
   "metadata": {},
   "source": [
    "## Returns for limit sells\n",
    "Work in progress. The return variance is often 0, so Sharpe ratio cannot be applied directly.\n",
    "Could look at estimates of variance on the sell days as an upper-bound for return variance instead."
   ]
  },
  {
   "cell_type": "code",
   "execution_count": 108,
   "metadata": {},
   "outputs": [
    {
     "name": "stderr",
     "output_type": "stream",
     "text": [
      "../src/strats/threshold_momentum.py:67: RuntimeWarning: divide by zero encountered in double_scalars\n",
      "  thres_sharpe = thres_mean / thres_std\n",
      "../src/strats/threshold_momentum.py:67: RuntimeWarning: divide by zero encountered in double_scalars\n",
      "  thres_sharpe = thres_mean / thres_std\n",
      "../src/strats/threshold_momentum.py:67: RuntimeWarning: divide by zero encountered in double_scalars\n",
      "  thres_sharpe = thres_mean / thres_std\n",
      "../src/strats/threshold_momentum.py:67: RuntimeWarning: divide by zero encountered in double_scalars\n",
      "  thres_sharpe = thres_mean / thres_std\n",
      "../src/strats/threshold_momentum.py:67: RuntimeWarning: divide by zero encountered in double_scalars\n",
      "  thres_sharpe = thres_mean / thres_std\n"
     ]
    }
   ],
   "source": [
    "all_stats = []\n",
    "last_3y_stats = []\n",
    "\n",
    "for threshold in MOVE_THRESHOLDS:\n",
    "    returns = tm.threshold_momentum_limit_returns(\n",
    "        close_prices, hi_prices, threshold, 0.01)\n",
    "    last_3y_returns = tm.threshold_momentum_limit_returns(\n",
    "        close_prices.last('3Y'), hi_prices.last('3Y'), threshold, 0.01)\n",
    "    \n",
    "    all_stats.extend(tm.calculate_stats(returns, threshold))\n",
    "    last_3y_stats.extend(\n",
    "        tm.calculate_stats(last_3y_returns, threshold))\n",
    "\n",
    "stats_df = pd.DataFrame(all_stats)\n",
    "last_3y_stats_df = pd.DataFrame(last_3y_stats)"
   ]
  },
  {
   "cell_type": "code",
   "execution_count": 67,
   "metadata": {},
   "outputs": [
    {
     "data": {
      "text/html": [
       "<div>\n",
       "<style scoped>\n",
       "    .dataframe tbody tr th:only-of-type {\n",
       "        vertical-align: middle;\n",
       "    }\n",
       "\n",
       "    .dataframe tbody tr th {\n",
       "        vertical-align: top;\n",
       "    }\n",
       "\n",
       "    .dataframe thead th {\n",
       "        text-align: right;\n",
       "    }\n",
       "</style>\n",
       "<table border=\"1\" class=\"dataframe\">\n",
       "  <thead>\n",
       "    <tr style=\"text-align: right;\">\n",
       "      <th></th>\n",
       "      <th>ticker</th>\n",
       "      <th>mean</th>\n",
       "      <th>threshold</th>\n",
       "      <th>sharpe</th>\n",
       "      <th>count</th>\n",
       "      <th>count_pos</th>\n",
       "      <th>count_neg</th>\n",
       "      <th>std</th>\n",
       "    </tr>\n",
       "  </thead>\n",
       "  <tbody>\n",
       "    <tr>\n",
       "      <th>658</th>\n",
       "      <td>ZNGA</td>\n",
       "      <td>0.010000</td>\n",
       "      <td>0.05</td>\n",
       "      <td>inf</td>\n",
       "      <td>9</td>\n",
       "      <td>9</td>\n",
       "      <td>0</td>\n",
       "      <td>0.000000</td>\n",
       "    </tr>\n",
       "    <tr>\n",
       "      <th>368</th>\n",
       "      <td>DASH</td>\n",
       "      <td>0.010000</td>\n",
       "      <td>0.04</td>\n",
       "      <td>inf</td>\n",
       "      <td>7</td>\n",
       "      <td>7</td>\n",
       "      <td>0</td>\n",
       "      <td>0.000000</td>\n",
       "    </tr>\n",
       "    <tr>\n",
       "      <th>533</th>\n",
       "      <td>DASH</td>\n",
       "      <td>0.010000</td>\n",
       "      <td>0.05</td>\n",
       "      <td>inf</td>\n",
       "      <td>6</td>\n",
       "      <td>6</td>\n",
       "      <td>0</td>\n",
       "      <td>0.000000</td>\n",
       "    </tr>\n",
       "    <tr>\n",
       "      <th>2</th>\n",
       "      <td>ABNB</td>\n",
       "      <td>0.009257</td>\n",
       "      <td>0.02</td>\n",
       "      <td>3.454005</td>\n",
       "      <td>13</td>\n",
       "      <td>13</td>\n",
       "      <td>0</td>\n",
       "      <td>0.002680</td>\n",
       "    </tr>\n",
       "    <tr>\n",
       "      <th>473</th>\n",
       "      <td>TWLO</td>\n",
       "      <td>0.009236</td>\n",
       "      <td>0.04</td>\n",
       "      <td>4.029166</td>\n",
       "      <td>50</td>\n",
       "      <td>49</td>\n",
       "      <td>1</td>\n",
       "      <td>0.002292</td>\n",
       "    </tr>\n",
       "    <tr>\n",
       "      <th>167</th>\n",
       "      <td>ABNB</td>\n",
       "      <td>0.009195</td>\n",
       "      <td>0.03</td>\n",
       "      <td>3.296295</td>\n",
       "      <td>12</td>\n",
       "      <td>12</td>\n",
       "      <td>0</td>\n",
       "      <td>0.002789</td>\n",
       "    </tr>\n",
       "    <tr>\n",
       "      <th>638</th>\n",
       "      <td>TWLO</td>\n",
       "      <td>0.009190</td>\n",
       "      <td>0.05</td>\n",
       "      <td>4.503023</td>\n",
       "      <td>33</td>\n",
       "      <td>33</td>\n",
       "      <td>0</td>\n",
       "      <td>0.002041</td>\n",
       "    </tr>\n",
       "    <tr>\n",
       "      <th>84</th>\n",
       "      <td>MCFE</td>\n",
       "      <td>0.009145</td>\n",
       "      <td>0.02</td>\n",
       "      <td>3.528087</td>\n",
       "      <td>20</td>\n",
       "      <td>19</td>\n",
       "      <td>1</td>\n",
       "      <td>0.002592</td>\n",
       "    </tr>\n",
       "    <tr>\n",
       "      <th>332</th>\n",
       "      <td>ABNB</td>\n",
       "      <td>0.009122</td>\n",
       "      <td>0.04</td>\n",
       "      <td>3.130837</td>\n",
       "      <td>11</td>\n",
       "      <td>11</td>\n",
       "      <td>0</td>\n",
       "      <td>0.002913</td>\n",
       "    </tr>\n",
       "    <tr>\n",
       "      <th>115</th>\n",
       "      <td>RXT</td>\n",
       "      <td>0.009084</td>\n",
       "      <td>0.02</td>\n",
       "      <td>3.671326</td>\n",
       "      <td>37</td>\n",
       "      <td>36</td>\n",
       "      <td>1</td>\n",
       "      <td>0.002474</td>\n",
       "    </tr>\n",
       "  </tbody>\n",
       "</table>\n",
       "</div>"
      ],
      "text/plain": [
       "    ticker      mean  threshold    sharpe  count  count_pos  count_neg  \\\n",
       "658   ZNGA  0.010000       0.05       inf      9          9          0   \n",
       "368   DASH  0.010000       0.04       inf      7          7          0   \n",
       "533   DASH  0.010000       0.05       inf      6          6          0   \n",
       "2     ABNB  0.009257       0.02  3.454005     13         13          0   \n",
       "473   TWLO  0.009236       0.04  4.029166     50         49          1   \n",
       "167   ABNB  0.009195       0.03  3.296295     12         12          0   \n",
       "638   TWLO  0.009190       0.05  4.503023     33         33          0   \n",
       "84    MCFE  0.009145       0.02  3.528087     20         19          1   \n",
       "332   ABNB  0.009122       0.04  3.130837     11         11          0   \n",
       "115    RXT  0.009084       0.02  3.671326     37         36          1   \n",
       "\n",
       "          std  \n",
       "658  0.000000  \n",
       "368  0.000000  \n",
       "533  0.000000  \n",
       "2    0.002680  \n",
       "473  0.002292  \n",
       "167  0.002789  \n",
       "638  0.002041  \n",
       "84   0.002592  \n",
       "332  0.002913  \n",
       "115  0.002474  "
      ]
     },
     "execution_count": 67,
     "metadata": {},
     "output_type": "execute_result"
    }
   ],
   "source": [
    "last_3y_stats_df.sort_values('mean', ascending=False).head(10)"
   ]
  },
  {
   "cell_type": "code",
   "execution_count": 109,
   "metadata": {},
   "outputs": [
    {
     "data": {
      "text/html": [
       "<div>\n",
       "<style scoped>\n",
       "    .dataframe tbody tr th:only-of-type {\n",
       "        vertical-align: middle;\n",
       "    }\n",
       "\n",
       "    .dataframe tbody tr th {\n",
       "        vertical-align: top;\n",
       "    }\n",
       "\n",
       "    .dataframe thead th {\n",
       "        text-align: right;\n",
       "    }\n",
       "</style>\n",
       "<table border=\"1\" class=\"dataframe\">\n",
       "  <thead>\n",
       "    <tr style=\"text-align: right;\">\n",
       "      <th></th>\n",
       "      <th>ticker</th>\n",
       "      <th>mean</th>\n",
       "      <th>threshold</th>\n",
       "      <th>sharpe</th>\n",
       "      <th>count</th>\n",
       "      <th>count_pos</th>\n",
       "      <th>count_neg</th>\n",
       "      <th>std</th>\n",
       "    </tr>\n",
       "  </thead>\n",
       "  <tbody>\n",
       "    <tr>\n",
       "      <th>533</th>\n",
       "      <td>DASH</td>\n",
       "      <td>0.010000</td>\n",
       "      <td>0.05</td>\n",
       "      <td>inf</td>\n",
       "      <td>6</td>\n",
       "      <td>6</td>\n",
       "      <td>0</td>\n",
       "      <td>0.000000</td>\n",
       "    </tr>\n",
       "    <tr>\n",
       "      <th>368</th>\n",
       "      <td>DASH</td>\n",
       "      <td>0.010000</td>\n",
       "      <td>0.04</td>\n",
       "      <td>inf</td>\n",
       "      <td>7</td>\n",
       "      <td>7</td>\n",
       "      <td>0</td>\n",
       "      <td>0.000000</td>\n",
       "    </tr>\n",
       "    <tr>\n",
       "      <th>2</th>\n",
       "      <td>ABNB</td>\n",
       "      <td>0.009257</td>\n",
       "      <td>0.02</td>\n",
       "      <td>3.454005</td>\n",
       "      <td>13</td>\n",
       "      <td>13</td>\n",
       "      <td>0</td>\n",
       "      <td>0.002680</td>\n",
       "    </tr>\n",
       "    <tr>\n",
       "      <th>167</th>\n",
       "      <td>ABNB</td>\n",
       "      <td>0.009195</td>\n",
       "      <td>0.03</td>\n",
       "      <td>3.296295</td>\n",
       "      <td>12</td>\n",
       "      <td>12</td>\n",
       "      <td>0</td>\n",
       "      <td>0.002789</td>\n",
       "    </tr>\n",
       "    <tr>\n",
       "      <th>84</th>\n",
       "      <td>MCFE</td>\n",
       "      <td>0.009145</td>\n",
       "      <td>0.02</td>\n",
       "      <td>3.528087</td>\n",
       "      <td>20</td>\n",
       "      <td>19</td>\n",
       "      <td>1</td>\n",
       "      <td>0.002592</td>\n",
       "    </tr>\n",
       "    <tr>\n",
       "      <th>332</th>\n",
       "      <td>ABNB</td>\n",
       "      <td>0.009122</td>\n",
       "      <td>0.04</td>\n",
       "      <td>3.130837</td>\n",
       "      <td>11</td>\n",
       "      <td>11</td>\n",
       "      <td>0</td>\n",
       "      <td>0.002913</td>\n",
       "    </tr>\n",
       "    <tr>\n",
       "      <th>115</th>\n",
       "      <td>RXT</td>\n",
       "      <td>0.009084</td>\n",
       "      <td>0.02</td>\n",
       "      <td>3.671326</td>\n",
       "      <td>37</td>\n",
       "      <td>36</td>\n",
       "      <td>1</td>\n",
       "      <td>0.002474</td>\n",
       "    </tr>\n",
       "    <tr>\n",
       "      <th>280</th>\n",
       "      <td>RXT</td>\n",
       "      <td>0.009060</td>\n",
       "      <td>0.03</td>\n",
       "      <td>3.658228</td>\n",
       "      <td>21</td>\n",
       "      <td>20</td>\n",
       "      <td>1</td>\n",
       "      <td>0.002477</td>\n",
       "    </tr>\n",
       "    <tr>\n",
       "      <th>497</th>\n",
       "      <td>ABNB</td>\n",
       "      <td>0.009034</td>\n",
       "      <td>0.05</td>\n",
       "      <td>2.956388</td>\n",
       "      <td>10</td>\n",
       "      <td>10</td>\n",
       "      <td>0</td>\n",
       "      <td>0.003056</td>\n",
       "    </tr>\n",
       "    <tr>\n",
       "      <th>517</th>\n",
       "      <td>BILL</td>\n",
       "      <td>0.008941</td>\n",
       "      <td>0.05</td>\n",
       "      <td>3.002469</td>\n",
       "      <td>43</td>\n",
       "      <td>41</td>\n",
       "      <td>2</td>\n",
       "      <td>0.002978</td>\n",
       "    </tr>\n",
       "  </tbody>\n",
       "</table>\n",
       "</div>"
      ],
      "text/plain": [
       "    ticker      mean  threshold    sharpe  count  count_pos  count_neg  \\\n",
       "533   DASH  0.010000       0.05       inf      6          6          0   \n",
       "368   DASH  0.010000       0.04       inf      7          7          0   \n",
       "2     ABNB  0.009257       0.02  3.454005     13         13          0   \n",
       "167   ABNB  0.009195       0.03  3.296295     12         12          0   \n",
       "84    MCFE  0.009145       0.02  3.528087     20         19          1   \n",
       "332   ABNB  0.009122       0.04  3.130837     11         11          0   \n",
       "115    RXT  0.009084       0.02  3.671326     37         36          1   \n",
       "280    RXT  0.009060       0.03  3.658228     21         20          1   \n",
       "497   ABNB  0.009034       0.05  2.956388     10         10          0   \n",
       "517   BILL  0.008941       0.05  3.002469     43         41          2   \n",
       "\n",
       "          std  \n",
       "533  0.000000  \n",
       "368  0.000000  \n",
       "2    0.002680  \n",
       "167  0.002789  \n",
       "84   0.002592  \n",
       "332  0.002913  \n",
       "115  0.002474  \n",
       "280  0.002477  \n",
       "497  0.003056  \n",
       "517  0.002978  "
      ]
     },
     "execution_count": 109,
     "metadata": {},
     "output_type": "execute_result"
    }
   ],
   "source": [
    "stats_df.sort_values('mean', ascending=False).head(10)"
   ]
  },
  {
   "cell_type": "code",
   "execution_count": 111,
   "metadata": {
    "scrolled": true
   },
   "outputs": [
    {
     "data": {
      "text/plain": [
       "<matplotlib.collections.LineCollection at 0x13f746910>"
      ]
     },
     "execution_count": 111,
     "metadata": {},
     "output_type": "execute_result"
    },
    {
     "data": {
      "image/png": "[encoded data removed]",
      "text/plain": [
       "<Figure size 1080x360 with 1 Axes>"
      ]
     },
     "metadata": {},
     "output_type": "display_data"
    }
   ],
   "source": [
    "airbnb_stats = stats_df.loc[497]\n",
    "\n",
    "res = bootstrap(\n",
    "        np.minimum(0.01, close_to_high['ABNB']),\n",
    "    lambda x: x.mean(),\n",
    "    airbnb_stats['count'], 10000)\n",
    "\n",
    "sns.histplot(res)\n",
    "plt.title('Bootstrap distribution of mean (limit strategy)')\n",
    "plt.vlines(\n",
    "    [airbnb_stats['mean']],\n",
    "    0, 500, linestyle='--', color='orange')"
   ]
  },
  {
   "cell_type": "code",
   "execution_count": 113,
   "metadata": {},
   "outputs": [
    {
     "data": {
      "text/plain": [
       "0.301"
      ]
     },
     "execution_count": 113,
     "metadata": {},
     "output_type": "execute_result"
    }
   ],
   "source": [
    "np.mean([sharpe > stats_df.loc[airbnb_ind, 'mean'] for sharpe in res])"
   ]
  },
  {
   "cell_type": "code",
   "execution_count": 55,
   "metadata": {},
   "outputs": [],
   "source": [
    "thres_data_df.to_csv('all_thres_data.csv')\n",
    "last_three_years_thres_data_df.to_csv('last_three_years_thres_data.csv')"
   ]
  }
 ],
 "metadata": {
  "kernelspec": {
   "display_name": "Python 3",
   "language": "python",
   "name": "python3"
  },
  "language_info": {
   "codemirror_mode": {
    "name": "ipython",
    "version": 3
   },
   "file_extension": ".py",
   "mimetype": "text/x-python",
   "name": "python",
   "nbconvert_exporter": "python",
   "pygments_lexer": "ipython3",
   "version": "3.7.7"
  }
 },
 "nbformat": 4,
 "nbformat_minor": 4
}
