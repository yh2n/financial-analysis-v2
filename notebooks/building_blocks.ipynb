{
 "metadata": {
  "language_info": {
   "codemirror_mode": {
    "name": "ipython",
    "version": 3
   },
   "file_extension": ".py",
   "mimetype": "text/x-python",
   "name": "python",
   "nbconvert_exporter": "python",
   "pygments_lexer": "ipython3",
   "version": "3.8.5-final"
  },
  "orig_nbformat": 2,
  "kernelspec": {
   "name": "python3",
   "display_name": "Python 3.8.5 64-bit ('its': conda)",
   "metadata": {
    "interpreter": {
     "hash": "592fe06e1aa9c5ffcf50d0e17bd8c4790f60cbab450546ecde41ac7d39605227"
    }
   }
  }
 },
 "nbformat": 4,
 "nbformat_minor": 2,
 "cells": [
  {
   "cell_type": "code",
   "execution_count": 1,
   "metadata": {},
   "outputs": [],
   "source": [
    "%load_ext autoreload\n",
    "%autoreload 2\n",
    "%matplotlib inline\n",
    "\n",
    "import pandas as pd\n",
    "import numpy as np\n",
    "from pathlib import Path\n",
    "import sys\n",
    "sys.path.append('../src')\n",
    "from utils.get_prices import *"
   ]
  },
  {
   "cell_type": "code",
   "execution_count": 2,
   "metadata": {},
   "outputs": [],
   "source": [
    "DATA_PATH = Path('../data')\n",
    "DATA_PATH_BASKETS = DATA_PATH / 'baskets'\n",
    "DATA_PATH_RAW = DATA_PATH / 'raw'\n",
    "DATA_PATH_PROCESSED = DATA_PATH / 'processed'"
   ]
  },
  {
   "cell_type": "code",
   "execution_count": 70,
   "metadata": {},
   "outputs": [],
   "source": [
    "basket_name = 'scorecard_single_ticker'\n",
    "basket_path = DATA_PATH_BASKETS / (basket_name + '.csv')\n",
    "tickers = pd.read_csv(basket_path, header=None, names=['Ticker'], squeeze=True)\n"
   ]
  },
  {
   "cell_type": "code",
   "execution_count": 71,
   "metadata": {},
   "outputs": [
    {
     "output_type": "execute_result",
     "data": {
      "text/plain": [
       "0       A\n",
       "1     AAL\n",
       "2     AAP\n",
       "3    AAPL\n",
       "4    ABBV\n",
       "Name: Ticker, dtype: object"
      ]
     },
     "metadata": {},
     "execution_count": 71
    }
   ],
   "source": [
    "tickers.head()"
   ]
  },
  {
   "cell_type": "code",
   "execution_count": 72,
   "metadata": {},
   "outputs": [
    {
     "output_type": "stream",
     "name": "stdout",
     "text": [
      "Downloading prices from Yahoo...\n",
      "Gaps found and filled in  ('Adj Close', 'AAPL')  :\n",
      "['19810810']\n",
      "Gaps found and filled in  ('Adj Close', 'ARNC')  :\n",
      "['20201001', '20201002']\n",
      "Gaps found and filled in  ('Adj Close', 'LUMN')  :\n",
      "['20200625', '20200626', '20200629', '20200630', '20200701', '20200702', '20200706', '20200707', '20200708', '20200709', '20200710', '20200713', '20200714', '20200715', '20200716', '20200717', '20200720', '20200721', '20200722', '20200723', '20200724', '20200727', '20200728', '20200729', '20200730', '20200731', '20200803', '20200804', '20200805', '20200806', '20200807', '20200810', '20200811', '20200812', '20200813', '20200814', '20200817', '20200818', '20200819', '20200820', '20200821', '20200824', '20200825', '20200826', '20200827', '20200828', '20200831', '20200901', '20200902', '20200903', '20200904', '20200908', '20200909', '20200910', '20200911', '20200914', '20200915', '20200916', '20200917']\n",
      "Gaps found and filled in  ('Adj Close', 'SIVB')  :\n",
      "['19871124']\n",
      "Gaps found and filled in  ('Adj Close', 'UA')  :\n",
      "['20151109', '20151214', '20160208', '20160222', '20160321']\n",
      "Gaps found and filled in  ('High', 'AAPL')  :\n",
      "['19810810']\n",
      "Gaps found and filled in  ('High', 'ARNC')  :\n",
      "['20201001', '20201002']\n",
      "Gaps found and filled in  ('High', 'LUMN')  :\n",
      "['20200625', '20200626', '20200629', '20200630', '20200701', '20200702', '20200706', '20200707', '20200708', '20200709', '20200710', '20200713', '20200714', '20200715', '20200716', '20200717', '20200720', '20200721', '20200722', '20200723', '20200724', '20200727', '20200728', '20200729', '20200730', '20200731', '20200803', '20200804', '20200805', '20200806', '20200807', '20200810', '20200811', '20200812', '20200813', '20200814', '20200817', '20200818', '20200819', '20200820', '20200821', '20200824', '20200825', '20200826', '20200827', '20200828', '20200831', '20200901', '20200902', '20200903', '20200904', '20200908', '20200909', '20200910', '20200911', '20200914', '20200915', '20200916', '20200917']\n",
      "Gaps found and filled in  ('High', 'SIVB')  :\n",
      "['19871124']\n",
      "Gaps found and filled in  ('High', 'UA')  :\n",
      "['20151109', '20151214', '20160208', '20160222', '20160321']\n",
      "Results saved to:  ..\\data\\raw\\prc_scorecard_single_ticker_19800101_20201223.csv\n",
      "Download finished.\n",
      "Wall time: 23min 12s\n"
     ]
    }
   ],
   "source": [
    "%%time\n",
    "\n",
    "start = '1980-01-01'\n",
    "end = '2020-12-23'\n",
    "\n",
    "timestamp = start.replace('-', '') + '_' + end.replace('-', '')\n",
    "\n",
    "price_filename = '_'.join(['prc', basket_name, timestamp]) + '.csv'\n",
    "price_filepath = DATA_PATH_RAW / price_filename\n",
    "\n",
    "if Path(price_filepath).exists():\n",
    "    print(\"Found existing price file. Reading...\")\n",
    "    prices = pd.read_csv(price_filepath, header=[0, 1], index_col=0)\n",
    "    print(\"Prices read from: \", price_filepath)\n",
    "else:\n",
    "    prices = get_prices(tickers, start, end,\n",
    "                        types=['Adj Close', 'High'],\n",
    "                        out_path=price_filepath,\n",
    "                        sort_tks=True)"
   ]
  },
  {
   "cell_type": "code",
   "execution_count": 73,
   "metadata": {},
   "outputs": [
    {
     "output_type": "execute_result",
     "data": {
      "text/plain": [
       "Attributes Adj Close                                          ... High      \\\n",
       "Symbols            A AAL AAP AAPL ABBV ABC ABMD ABT ACN ACWI  ...  YUM   Z   \n",
       "Date                                                          ...            \n",
       "1980-01-02       NaN NaN NaN  NaN  NaN NaN  NaN NaN NaN  NaN  ...  NaN NaN   \n",
       "1980-01-03       NaN NaN NaN  NaN  NaN NaN  NaN NaN NaN  NaN  ...  NaN NaN   \n",
       "1980-01-04       NaN NaN NaN  NaN  NaN NaN  NaN NaN NaN  NaN  ...  NaN NaN   \n",
       "1980-01-07       NaN NaN NaN  NaN  NaN NaN  NaN NaN NaN  NaN  ...  NaN NaN   \n",
       "1980-01-08       NaN NaN NaN  NaN  NaN NaN  NaN NaN NaN  NaN  ...  NaN NaN   \n",
       "\n",
       "Attributes                                    \n",
       "Symbols    ZBH ZBRA ZEN ZION  ZM  ZS ZTS ZUO  \n",
       "Date                                          \n",
       "1980-01-02 NaN  NaN NaN  NaN NaN NaN NaN NaN  \n",
       "1980-01-03 NaN  NaN NaN  NaN NaN NaN NaN NaN  \n",
       "1980-01-04 NaN  NaN NaN  NaN NaN NaN NaN NaN  \n",
       "1980-01-07 NaN  NaN NaN  NaN NaN NaN NaN NaN  \n",
       "1980-01-08 NaN  NaN NaN  NaN NaN NaN NaN NaN  \n",
       "\n",
       "[5 rows x 1388 columns]"
      ],
      "text/html": "<div>\n<style scoped>\n    .dataframe tbody tr th:only-of-type {\n        vertical-align: middle;\n    }\n\n    .dataframe tbody tr th {\n        vertical-align: top;\n    }\n\n    .dataframe thead tr th {\n        text-align: left;\n    }\n\n    .dataframe thead tr:last-of-type th {\n        text-align: right;\n    }\n</style>\n<table border=\"1\" class=\"dataframe\">\n  <thead>\n    <tr>\n      <th>Attributes</th>\n      <th colspan=\"10\" halign=\"left\">Adj Close</th>\n      <th>...</th>\n      <th colspan=\"10\" halign=\"left\">High</th>\n    </tr>\n    <tr>\n      <th>Symbols</th>\n      <th>A</th>\n      <th>AAL</th>\n      <th>AAP</th>\n      <th>AAPL</th>\n      <th>ABBV</th>\n      <th>ABC</th>\n      <th>ABMD</th>\n      <th>ABT</th>\n      <th>ACN</th>\n      <th>ACWI</th>\n      <th>...</th>\n      <th>YUM</th>\n      <th>Z</th>\n      <th>ZBH</th>\n      <th>ZBRA</th>\n      <th>ZEN</th>\n      <th>ZION</th>\n      <th>ZM</th>\n      <th>ZS</th>\n      <th>ZTS</th>\n      <th>ZUO</th>\n    </tr>\n    <tr>\n      <th>Date</th>\n      <th></th>\n      <th></th>\n      <th></th>\n      <th></th>\n      <th></th>\n      <th></th>\n      <th></th>\n      <th></th>\n      <th></th>\n      <th></th>\n      <th></th>\n      <th></th>\n      <th></th>\n      <th></th>\n      <th></th>\n      <th></th>\n      <th></th>\n      <th></th>\n      <th></th>\n      <th></th>\n      <th></th>\n    </tr>\n  </thead>\n  <tbody>\n    <tr>\n      <th>1980-01-02</th>\n      <td>NaN</td>\n      <td>NaN</td>\n      <td>NaN</td>\n      <td>NaN</td>\n      <td>NaN</td>\n      <td>NaN</td>\n      <td>NaN</td>\n      <td>NaN</td>\n      <td>NaN</td>\n      <td>NaN</td>\n      <td>...</td>\n      <td>NaN</td>\n      <td>NaN</td>\n      <td>NaN</td>\n      <td>NaN</td>\n      <td>NaN</td>\n      <td>NaN</td>\n      <td>NaN</td>\n      <td>NaN</td>\n      <td>NaN</td>\n      <td>NaN</td>\n    </tr>\n    <tr>\n      <th>1980-01-03</th>\n      <td>NaN</td>\n      <td>NaN</td>\n      <td>NaN</td>\n      <td>NaN</td>\n      <td>NaN</td>\n      <td>NaN</td>\n      <td>NaN</td>\n      <td>NaN</td>\n      <td>NaN</td>\n      <td>NaN</td>\n      <td>...</td>\n      <td>NaN</td>\n      <td>NaN</td>\n      <td>NaN</td>\n      <td>NaN</td>\n      <td>NaN</td>\n      <td>NaN</td>\n      <td>NaN</td>\n      <td>NaN</td>\n      <td>NaN</td>\n      <td>NaN</td>\n    </tr>\n    <tr>\n      <th>1980-01-04</th>\n      <td>NaN</td>\n      <td>NaN</td>\n      <td>NaN</td>\n      <td>NaN</td>\n      <td>NaN</td>\n      <td>NaN</td>\n      <td>NaN</td>\n      <td>NaN</td>\n      <td>NaN</td>\n      <td>NaN</td>\n      <td>...</td>\n      <td>NaN</td>\n      <td>NaN</td>\n      <td>NaN</td>\n      <td>NaN</td>\n      <td>NaN</td>\n      <td>NaN</td>\n      <td>NaN</td>\n      <td>NaN</td>\n      <td>NaN</td>\n      <td>NaN</td>\n    </tr>\n    <tr>\n      <th>1980-01-07</th>\n      <td>NaN</td>\n      <td>NaN</td>\n      <td>NaN</td>\n      <td>NaN</td>\n      <td>NaN</td>\n      <td>NaN</td>\n      <td>NaN</td>\n      <td>NaN</td>\n      <td>NaN</td>\n      <td>NaN</td>\n      <td>...</td>\n      <td>NaN</td>\n      <td>NaN</td>\n      <td>NaN</td>\n      <td>NaN</td>\n      <td>NaN</td>\n      <td>NaN</td>\n      <td>NaN</td>\n      <td>NaN</td>\n      <td>NaN</td>\n      <td>NaN</td>\n    </tr>\n    <tr>\n      <th>1980-01-08</th>\n      <td>NaN</td>\n      <td>NaN</td>\n      <td>NaN</td>\n      <td>NaN</td>\n      <td>NaN</td>\n      <td>NaN</td>\n      <td>NaN</td>\n      <td>NaN</td>\n      <td>NaN</td>\n      <td>NaN</td>\n      <td>...</td>\n      <td>NaN</td>\n      <td>NaN</td>\n      <td>NaN</td>\n      <td>NaN</td>\n      <td>NaN</td>\n      <td>NaN</td>\n      <td>NaN</td>\n      <td>NaN</td>\n      <td>NaN</td>\n      <td>NaN</td>\n    </tr>\n  </tbody>\n</table>\n<p>5 rows × 1388 columns</p>\n</div>"
     },
     "metadata": {},
     "execution_count": 73
    }
   ],
   "source": [
    "prices.head()"
   ]
  },
  {
   "cell_type": "code",
   "execution_count": 74,
   "metadata": {},
   "outputs": [],
   "source": [
    "prices_ad = prices['Adj Close']\n",
    "prices_hi = prices['High']"
   ]
  },
  {
   "cell_type": "code",
   "execution_count": 78,
   "metadata": {},
   "outputs": [],
   "source": [
    "window_size = 22\n",
    "thld_rtn = 0.1\n",
    "backtest_start = '2020-07-01'\n",
    "timestamp_backtest = backtest_start.replace('-', '') + '_' + end.replace('-', '')"
   ]
  },
  {
   "cell_type": "code",
   "execution_count": 80,
   "metadata": {},
   "outputs": [
    {
     "output_type": "execute_result",
     "data": {
      "text/plain": [
       "Symbols            A       AAL       AAP      AAPL      ABBV       ABC  \\\n",
       "Date                                                                     \n",
       "2020-12-17  0.078897  0.313526  0.063080  0.069825  0.066389 -0.094212   \n",
       "2020-12-18  0.085928  0.300000  0.073264  0.060893  0.052817 -0.059872   \n",
       "2020-12-21  0.111656  0.263736  0.085342  0.086419  0.050547 -0.055781   \n",
       "2020-12-22  0.079960  0.210321  0.092876  0.111598  0.031404 -0.050834   \n",
       "2020-12-23  0.057805  0.268156  0.105364  0.116073  0.024197 -0.032053   \n",
       "\n",
       "Symbols         ABMD       ABT       ACN      ACWI  ...       YUM         Z  \\\n",
       "Date                                                ...                       \n",
       "2020-12-17  0.033877 -0.043019  0.079690  0.043985  ...  0.043138  0.294189   \n",
       "2020-12-18  0.086912 -0.036175  0.091994  0.041752  ...  0.059915  0.284438   \n",
       "2020-12-21  0.111190 -0.015305  0.090477  0.043912  ...  0.047503  0.334116   \n",
       "2020-12-22  0.117217 -0.024505  0.066900  0.036859  ...  0.024821  0.284684   \n",
       "2020-12-23  0.133627 -0.031022  0.057509  0.044283  ...  0.021718  0.265956   \n",
       "\n",
       "Symbols          ZBH      ZBRA       ZEN      ZION        ZM        ZS  \\\n",
       "Date                                                                     \n",
       "2020-12-17  0.007589  0.085120  0.144713  0.053333  0.006188  0.406231   \n",
       "2020-12-18  0.011322  0.094516  0.114138  0.037374  0.010906  0.433548   \n",
       "2020-12-21  0.002767  0.113544  0.119634  0.089625 -0.014625  0.474516   \n",
       "2020-12-22  0.029346  0.060186  0.128243  0.095077 -0.012769  0.492565   \n",
       "2020-12-23  0.020831  0.069720  0.128171  0.136625 -0.126752  0.450738   \n",
       "\n",
       "Symbols          ZTS       ZUO  \n",
       "Date                            \n",
       "2020-12-17 -0.015669  0.232850  \n",
       "2020-12-18 -0.010881  0.174677  \n",
       "2020-12-21 -0.016269  0.176682  \n",
       "2020-12-22 -0.026938  0.222707  \n",
       "2020-12-23 -0.038207  0.193772  \n",
       "\n",
       "[5 rows x 694 columns]"
      ],
      "text/html": "<div>\n<style scoped>\n    .dataframe tbody tr th:only-of-type {\n        vertical-align: middle;\n    }\n\n    .dataframe tbody tr th {\n        vertical-align: top;\n    }\n\n    .dataframe thead th {\n        text-align: right;\n    }\n</style>\n<table border=\"1\" class=\"dataframe\">\n  <thead>\n    <tr style=\"text-align: right;\">\n      <th>Symbols</th>\n      <th>A</th>\n      <th>AAL</th>\n      <th>AAP</th>\n      <th>AAPL</th>\n      <th>ABBV</th>\n      <th>ABC</th>\n      <th>ABMD</th>\n      <th>ABT</th>\n      <th>ACN</th>\n      <th>ACWI</th>\n      <th>...</th>\n      <th>YUM</th>\n      <th>Z</th>\n      <th>ZBH</th>\n      <th>ZBRA</th>\n      <th>ZEN</th>\n      <th>ZION</th>\n      <th>ZM</th>\n      <th>ZS</th>\n      <th>ZTS</th>\n      <th>ZUO</th>\n    </tr>\n    <tr>\n      <th>Date</th>\n      <th></th>\n      <th></th>\n      <th></th>\n      <th></th>\n      <th></th>\n      <th></th>\n      <th></th>\n      <th></th>\n      <th></th>\n      <th></th>\n      <th></th>\n      <th></th>\n      <th></th>\n      <th></th>\n      <th></th>\n      <th></th>\n      <th></th>\n      <th></th>\n      <th></th>\n      <th></th>\n      <th></th>\n    </tr>\n  </thead>\n  <tbody>\n    <tr>\n      <th>2020-12-17</th>\n      <td>0.078897</td>\n      <td>0.313526</td>\n      <td>0.063080</td>\n      <td>0.069825</td>\n      <td>0.066389</td>\n      <td>-0.094212</td>\n      <td>0.033877</td>\n      <td>-0.043019</td>\n      <td>0.079690</td>\n      <td>0.043985</td>\n      <td>...</td>\n      <td>0.043138</td>\n      <td>0.294189</td>\n      <td>0.007589</td>\n      <td>0.085120</td>\n      <td>0.144713</td>\n      <td>0.053333</td>\n      <td>0.006188</td>\n      <td>0.406231</td>\n      <td>-0.015669</td>\n      <td>0.232850</td>\n    </tr>\n    <tr>\n      <th>2020-12-18</th>\n      <td>0.085928</td>\n      <td>0.300000</td>\n      <td>0.073264</td>\n      <td>0.060893</td>\n      <td>0.052817</td>\n      <td>-0.059872</td>\n      <td>0.086912</td>\n      <td>-0.036175</td>\n      <td>0.091994</td>\n      <td>0.041752</td>\n      <td>...</td>\n      <td>0.059915</td>\n      <td>0.284438</td>\n      <td>0.011322</td>\n      <td>0.094516</td>\n      <td>0.114138</td>\n      <td>0.037374</td>\n      <td>0.010906</td>\n      <td>0.433548</td>\n      <td>-0.010881</td>\n      <td>0.174677</td>\n    </tr>\n    <tr>\n      <th>2020-12-21</th>\n      <td>0.111656</td>\n      <td>0.263736</td>\n      <td>0.085342</td>\n      <td>0.086419</td>\n      <td>0.050547</td>\n      <td>-0.055781</td>\n      <td>0.111190</td>\n      <td>-0.015305</td>\n      <td>0.090477</td>\n      <td>0.043912</td>\n      <td>...</td>\n      <td>0.047503</td>\n      <td>0.334116</td>\n      <td>0.002767</td>\n      <td>0.113544</td>\n      <td>0.119634</td>\n      <td>0.089625</td>\n      <td>-0.014625</td>\n      <td>0.474516</td>\n      <td>-0.016269</td>\n      <td>0.176682</td>\n    </tr>\n    <tr>\n      <th>2020-12-22</th>\n      <td>0.079960</td>\n      <td>0.210321</td>\n      <td>0.092876</td>\n      <td>0.111598</td>\n      <td>0.031404</td>\n      <td>-0.050834</td>\n      <td>0.117217</td>\n      <td>-0.024505</td>\n      <td>0.066900</td>\n      <td>0.036859</td>\n      <td>...</td>\n      <td>0.024821</td>\n      <td>0.284684</td>\n      <td>0.029346</td>\n      <td>0.060186</td>\n      <td>0.128243</td>\n      <td>0.095077</td>\n      <td>-0.012769</td>\n      <td>0.492565</td>\n      <td>-0.026938</td>\n      <td>0.222707</td>\n    </tr>\n    <tr>\n      <th>2020-12-23</th>\n      <td>0.057805</td>\n      <td>0.268156</td>\n      <td>0.105364</td>\n      <td>0.116073</td>\n      <td>0.024197</td>\n      <td>-0.032053</td>\n      <td>0.133627</td>\n      <td>-0.031022</td>\n      <td>0.057509</td>\n      <td>0.044283</td>\n      <td>...</td>\n      <td>0.021718</td>\n      <td>0.265956</td>\n      <td>0.020831</td>\n      <td>0.069720</td>\n      <td>0.128171</td>\n      <td>0.136625</td>\n      <td>-0.126752</td>\n      <td>0.450738</td>\n      <td>-0.038207</td>\n      <td>0.193772</td>\n    </tr>\n  </tbody>\n</table>\n<p>5 rows × 694 columns</p>\n</div>"
     },
     "metadata": {},
     "execution_count": 80
    }
   ],
   "source": [
    "roll_rtns = prices_ad.pct_change(window_size)\n",
    "roll_rtns.tail()"
   ]
  },
  {
   "cell_type": "code",
   "execution_count": 118,
   "metadata": {},
   "outputs": [],
   "source": [
    "roll_rtns_shifted = roll_rtns.shift(-window_size).loc[backtest_start:].dropna()\n",
    "\n",
    "count = (roll_rtns_shifted >= thld_rtn).apply(sum, axis=0)\n",
    "prob_rtn_over_thld_over_window = count / roll_rtns_shifted.shape[0]\n",
    "prob_rtn_over_thld_over_window.name = 'Probability'\n",
    "\n",
    "# save results to file\n",
    "filename = '_'.join(\n",
    "    ['prob_rtn_over', format(thld_rtn, '.2f'),\n",
    "     'over', str(window_size)+'d', timestamp_backtest])\n",
    "filepath = DATA_PATH_PROCESSED / (filename + '.csv')\n",
    "prob_rtn_over_thld_over_window.to_csv(filepath)"
   ]
  },
  {
   "cell_type": "code",
   "execution_count": null,
   "metadata": {},
   "outputs": [],
   "source": []
  }
 ]
}