{
 "metadata": {
  "language_info": {
   "codemirror_mode": {
    "name": "ipython",
    "version": 3
   },
   "file_extension": ".py",
   "mimetype": "text/x-python",
   "name": "python",
   "nbconvert_exporter": "python",
   "pygments_lexer": "ipython3",
   "version": "3.8.5-final"
  },
  "orig_nbformat": 2,
  "kernelspec": {
   "name": "python3",
   "display_name": "Python 3.8.5 64-bit ('its': conda)",
   "metadata": {
    "interpreter": {
     "hash": "592fe06e1aa9c5ffcf50d0e17bd8c4790f60cbab450546ecde41ac7d39605227"
    }
   }
  }
 },
 "nbformat": 4,
 "nbformat_minor": 2,
 "cells": [
  {
   "cell_type": "code",
   "execution_count": 1,
   "metadata": {},
   "outputs": [],
   "source": [
    "%load_ext autoreload\n",
    "%autoreload 2\n",
    "%matplotlib inline\n",
    "\n",
    "import pandas as pd\n",
    "import numpy as np\n",
    "from pathlib import Path\n",
    "import sys\n",
    "sys.path.append('../src')\n",
    "from utils.get_prices import *\n",
    "\n",
    "\n",
    "DATA_PATH = Path('../data')\n",
    "DATA_PATH_BASKETS = DATA_PATH / 'baskets'\n",
    "DATA_PATH_RAW = DATA_PATH / 'raw'\n",
    "DATA_PATH_PROCESSED = DATA_PATH / 'processed'"
   ]
  },
  {
   "cell_type": "code",
   "execution_count": 2,
   "metadata": {},
   "outputs": [],
   "source": [
    "basket_name = 'all_tickers_20201224'\n",
    "basket_path = DATA_PATH_BASKETS / (basket_name + '.csv')\n",
    "tickers = pd.read_csv(basket_path, header=None, names=['Ticker'], squeeze=True)\n"
   ]
  },
  {
   "cell_type": "code",
   "execution_count": 3,
   "metadata": {},
   "outputs": [
    {
     "output_type": "execute_result",
     "data": {
      "text/plain": [
       "0         A\n",
       "1       AAL\n",
       "2       AAP\n",
       "3      AAPL\n",
       "4      ABBV\n",
       "       ... \n",
       "722    ZION\n",
       "723      ZM\n",
       "724      ZS\n",
       "725     ZTS\n",
       "726     ZUO\n",
       "Name: Ticker, Length: 727, dtype: object"
      ]
     },
     "metadata": {},
     "execution_count": 3
    }
   ],
   "source": [
    "tickers"
   ]
  },
  {
   "cell_type": "code",
   "execution_count": 4,
   "metadata": {},
   "outputs": [
    {
     "output_type": "stream",
     "name": "stdout",
     "text": [
      "Downloading prices from Yahoo...\n",
      "Gaps found and filled in  ('Adj Close', 'ARNC')  :\n",
      "['20201001', '20201002']\n",
      "Gaps found and filled in  ('Adj Close', 'LUMN')  :\n",
      "['20200625', '20200626', '20200629', '20200630', '20200701', '20200702', '20200706', '20200707', '20200708', '20200709', '20200710', '20200713', '20200714', '20200715', '20200716', '20200717', '20200720', '20200721', '20200722', '20200723', '20200724', '20200727', '20200728', '20200729', '20200730', '20200731', '20200803', '20200804', '20200805', '20200806', '20200807', '20200810', '20200811', '20200812', '20200813', '20200814', '20200817', '20200818', '20200819', '20200820', '20200821', '20200824', '20200825', '20200826', '20200827', '20200828', '20200831', '20200901', '20200902', '20200903', '20200904', '20200908', '20200909', '20200910', '20200911', '20200914', '20200915', '20200916', '20200917']\n",
      "Gaps found and filled in  ('High', 'ARNC')  :\n",
      "['20201001', '20201002']\n",
      "Gaps found and filled in  ('High', 'LUMN')  :\n",
      "['20200625', '20200626', '20200629', '20200630', '20200701', '20200702', '20200706', '20200707', '20200708', '20200709', '20200710', '20200713', '20200714', '20200715', '20200716', '20200717', '20200720', '20200721', '20200722', '20200723', '20200724', '20200727', '20200728', '20200729', '20200730', '20200731', '20200803', '20200804', '20200805', '20200806', '20200807', '20200810', '20200811', '20200812', '20200813', '20200814', '20200817', '20200818', '20200819', '20200820', '20200821', '20200824', '20200825', '20200826', '20200827', '20200828', '20200831', '20200901', '20200902', '20200903', '20200904', '20200908', '20200909', '20200910', '20200911', '20200914', '20200915', '20200916', '20200917']\n",
      "Results saved to:  ..\\data\\raw\\prc_all_tickers_20201224_20200101_20201224.csv\n",
      "Download finished.\n",
      "Wall time: 15min 42s\n"
     ]
    }
   ],
   "source": [
    "%%time\n",
    "\n",
    "start = '2020-01-01' # start must be at least [window]Ds earlier than bt_start\n",
    "end = '2020-12-24'\n",
    "\n",
    "timestamp = start.replace('-', '') + '_' + end.replace('-', '')\n",
    "\n",
    "price_filename = '_'.join(['prc', basket_name, timestamp]) + '.csv'\n",
    "price_filepath = DATA_PATH_RAW / price_filename\n",
    "\n",
    "if Path(price_filepath).exists():\n",
    "    print(\"Found existing price file. Reading...\")\n",
    "    prices = pd.read_csv(price_filepath, header=[0, 1], index_col=0)\n",
    "    print(\"Prices read from: \", price_filepath)\n",
    "else:\n",
    "    prices = get_prices(tickers, start, end,\n",
    "                        types=['Adj Close', 'High'],\n",
    "                        out_path=price_filepath,\n",
    "                        sort_tks=True)"
   ]
  },
  {
   "cell_type": "code",
   "execution_count": 5,
   "metadata": {},
   "outputs": [
    {
     "output_type": "execute_result",
     "data": {
      "text/plain": [
       "Attributes   Adj Close                                                        \\\n",
       "Symbols              A    AAL         AAP        AAPL        ABBV        ABC   \n",
       "Date                                                                           \n",
       "2020-12-18  119.300003  16.51  159.990005  126.660004  104.449997  98.610001   \n",
       "2020-12-21  117.779999  16.10  160.490005  128.229996  103.709999  97.669998   \n",
       "2020-12-22  117.370003  15.48  159.399994  131.880005  102.800003  96.720001   \n",
       "2020-12-23  117.300003  15.89  159.289993  130.960007  103.279999  97.239998   \n",
       "2020-12-24  117.309998  15.66  160.679993  131.970001  103.260002  96.970001   \n",
       "\n",
       "Attributes                                                 ...        High  \\\n",
       "Symbols           ABMD         ABT         ACN       ACWI  ...           Z   \n",
       "Date                                                       ...               \n",
       "2020-12-18  293.390015  108.970001  266.250000  89.779999  ...  140.647995   \n",
       "2020-12-21  295.809998  108.089996  261.420013  89.209999  ...  136.800003   \n",
       "2020-12-22  302.329987  108.279999  259.470001  89.059998  ...  144.300003   \n",
       "2020-12-23  304.049988  107.449997  257.440002  89.480003  ...  142.350006   \n",
       "2020-12-24  303.410004  108.349998  257.299988  89.589996  ...  143.083496   \n",
       "\n",
       "Attributes                                                             \\\n",
       "Symbols            ZBH        ZBRA         ZEN          ZG       ZION   \n",
       "Date                                                                    \n",
       "2020-12-18  152.419998  378.500000  142.279999  144.130005  41.860001   \n",
       "2020-12-21  150.240005  376.730011  141.080002  141.550003  42.560001   \n",
       "2020-12-22  151.699997  387.279999  144.188004  149.440002  42.860001   \n",
       "2020-12-23  152.300003  384.600006  144.500000  147.990005  43.700001   \n",
       "2020-12-24  149.699997  382.279999  144.559998  148.130005  43.619999   \n",
       "\n",
       "Attributes                                              \n",
       "Symbols             ZM          ZS         ZTS     ZUO  \n",
       "Date                                                    \n",
       "2020-12-18  408.109985  198.160004  164.539993  12.900  \n",
       "2020-12-21  427.759003  200.399994  161.559998  13.240  \n",
       "2020-12-22  413.500000  208.065002  162.380005  14.080  \n",
       "2020-12-23  402.600006  212.585007  162.979996  14.135  \n",
       "2020-12-24  384.880005  209.979996  161.869904  14.600  \n",
       "\n",
       "[5 rows x 1454 columns]"
      ],
      "text/html": "<div>\n<style scoped>\n    .dataframe tbody tr th:only-of-type {\n        vertical-align: middle;\n    }\n\n    .dataframe tbody tr th {\n        vertical-align: top;\n    }\n\n    .dataframe thead tr th {\n        text-align: left;\n    }\n\n    .dataframe thead tr:last-of-type th {\n        text-align: right;\n    }\n</style>\n<table border=\"1\" class=\"dataframe\">\n  <thead>\n    <tr>\n      <th>Attributes</th>\n      <th colspan=\"10\" halign=\"left\">Adj Close</th>\n      <th>...</th>\n      <th colspan=\"10\" halign=\"left\">High</th>\n    </tr>\n    <tr>\n      <th>Symbols</th>\n      <th>A</th>\n      <th>AAL</th>\n      <th>AAP</th>\n      <th>AAPL</th>\n      <th>ABBV</th>\n      <th>ABC</th>\n      <th>ABMD</th>\n      <th>ABT</th>\n      <th>ACN</th>\n      <th>ACWI</th>\n      <th>...</th>\n      <th>Z</th>\n      <th>ZBH</th>\n      <th>ZBRA</th>\n      <th>ZEN</th>\n      <th>ZG</th>\n      <th>ZION</th>\n      <th>ZM</th>\n      <th>ZS</th>\n      <th>ZTS</th>\n      <th>ZUO</th>\n    </tr>\n    <tr>\n      <th>Date</th>\n      <th></th>\n      <th></th>\n      <th></th>\n      <th></th>\n      <th></th>\n      <th></th>\n      <th></th>\n      <th></th>\n      <th></th>\n      <th></th>\n      <th></th>\n      <th></th>\n      <th></th>\n      <th></th>\n      <th></th>\n      <th></th>\n      <th></th>\n      <th></th>\n      <th></th>\n      <th></th>\n      <th></th>\n    </tr>\n  </thead>\n  <tbody>\n    <tr>\n      <th>2020-12-18</th>\n      <td>119.300003</td>\n      <td>16.51</td>\n      <td>159.990005</td>\n      <td>126.660004</td>\n      <td>104.449997</td>\n      <td>98.610001</td>\n      <td>293.390015</td>\n      <td>108.970001</td>\n      <td>266.250000</td>\n      <td>89.779999</td>\n      <td>...</td>\n      <td>140.647995</td>\n      <td>152.419998</td>\n      <td>378.500000</td>\n      <td>142.279999</td>\n      <td>144.130005</td>\n      <td>41.860001</td>\n      <td>408.109985</td>\n      <td>198.160004</td>\n      <td>164.539993</td>\n      <td>12.900</td>\n    </tr>\n    <tr>\n      <th>2020-12-21</th>\n      <td>117.779999</td>\n      <td>16.10</td>\n      <td>160.490005</td>\n      <td>128.229996</td>\n      <td>103.709999</td>\n      <td>97.669998</td>\n      <td>295.809998</td>\n      <td>108.089996</td>\n      <td>261.420013</td>\n      <td>89.209999</td>\n      <td>...</td>\n      <td>136.800003</td>\n      <td>150.240005</td>\n      <td>376.730011</td>\n      <td>141.080002</td>\n      <td>141.550003</td>\n      <td>42.560001</td>\n      <td>427.759003</td>\n      <td>200.399994</td>\n      <td>161.559998</td>\n      <td>13.240</td>\n    </tr>\n    <tr>\n      <th>2020-12-22</th>\n      <td>117.370003</td>\n      <td>15.48</td>\n      <td>159.399994</td>\n      <td>131.880005</td>\n      <td>102.800003</td>\n      <td>96.720001</td>\n      <td>302.329987</td>\n      <td>108.279999</td>\n      <td>259.470001</td>\n      <td>89.059998</td>\n      <td>...</td>\n      <td>144.300003</td>\n      <td>151.699997</td>\n      <td>387.279999</td>\n      <td>144.188004</td>\n      <td>149.440002</td>\n      <td>42.860001</td>\n      <td>413.500000</td>\n      <td>208.065002</td>\n      <td>162.380005</td>\n      <td>14.080</td>\n    </tr>\n    <tr>\n      <th>2020-12-23</th>\n      <td>117.300003</td>\n      <td>15.89</td>\n      <td>159.289993</td>\n      <td>130.960007</td>\n      <td>103.279999</td>\n      <td>97.239998</td>\n      <td>304.049988</td>\n      <td>107.449997</td>\n      <td>257.440002</td>\n      <td>89.480003</td>\n      <td>...</td>\n      <td>142.350006</td>\n      <td>152.300003</td>\n      <td>384.600006</td>\n      <td>144.500000</td>\n      <td>147.990005</td>\n      <td>43.700001</td>\n      <td>402.600006</td>\n      <td>212.585007</td>\n      <td>162.979996</td>\n      <td>14.135</td>\n    </tr>\n    <tr>\n      <th>2020-12-24</th>\n      <td>117.309998</td>\n      <td>15.66</td>\n      <td>160.679993</td>\n      <td>131.970001</td>\n      <td>103.260002</td>\n      <td>96.970001</td>\n      <td>303.410004</td>\n      <td>108.349998</td>\n      <td>257.299988</td>\n      <td>89.589996</td>\n      <td>...</td>\n      <td>143.083496</td>\n      <td>149.699997</td>\n      <td>382.279999</td>\n      <td>144.559998</td>\n      <td>148.130005</td>\n      <td>43.619999</td>\n      <td>384.880005</td>\n      <td>209.979996</td>\n      <td>161.869904</td>\n      <td>14.600</td>\n    </tr>\n  </tbody>\n</table>\n<p>5 rows × 1454 columns</p>\n</div>"
     },
     "metadata": {},
     "execution_count": 5
    }
   ],
   "source": [
    "prices.tail()"
   ]
  },
  {
   "cell_type": "code",
   "execution_count": 6,
   "metadata": {},
   "outputs": [],
   "source": [
    "prices_ad = prices['Adj Close']\n",
    "prices_hi = prices['High']"
   ]
  },
  {
   "cell_type": "code",
   "execution_count": 7,
   "metadata": {},
   "outputs": [],
   "source": [
    "window_size = 22\n",
    "thld_rtn = 0.1\n",
    "backtest_start = '2020-07-01'\n",
    "timestamp_backtest = backtest_start.replace('-', '') + '_' + end.replace('-', '')"
   ]
  },
  {
   "cell_type": "code",
   "execution_count": 13,
   "metadata": {},
   "outputs": [],
   "source": [
    "roll_rtns = prices_ad.pct_change(window_size)\n",
    "roll_rtns_shifted = roll_rtns.shift(-window_size).loc[backtest_start:].dropna(how='all')"
   ]
  },
  {
   "cell_type": "code",
   "execution_count": 25,
   "metadata": {},
   "outputs": [],
   "source": [
    "n_trades = roll_rtns_shifted.count(axis=0) # count non NA\n",
    "n_trades.name = 'N_Trades'\n",
    "n_hits = (roll_rtns_shifted >= thld_rtn).sum(axis=0, skipna=True)\n",
    "hit_rate = n_hits / n_trades\n",
    "hit_rate.name = ''.join(['% Probability of Price = Close+',\n",
    "                         format(thld_rtn*100, '.0f'),\n",
    "                         '%, Close+22D From Trade'])\n",
    "res = pd.concat([hit_rate, n_trades], axis=1)\n",
    "\n",
    "# save results to file\n",
    "filename = '_'.join(['prob_rtn_over', format(thld_rtn, '.2f'),\n",
    "                     'over', str(window_size)+'d', timestamp_backtest])\n",
    "filepath = DATA_PATH_PROCESSED / (filename + '.csv')\n",
    "res.to_csv(filepath)"
   ]
  },
  {
   "cell_type": "code",
   "execution_count": 26,
   "metadata": {},
   "outputs": [
    {
     "output_type": "execute_result",
     "data": {
      "text/plain": [
       "         % Probability of Price = Close+10%, Close+22D From Trade  N_Trades\n",
       "Symbols                                                                    \n",
       "A                                                 0.049020              102\n",
       "AAL                                               0.352941              102\n",
       "AAP                                               0.117647              102\n",
       "AAPL                                              0.303922              102\n",
       "ABBV                                              0.235294              102\n",
       "...                                                    ...              ...\n",
       "ZION                                              0.313725              102\n",
       "ZM                                                0.431373              102\n",
       "ZS                                                0.362745              102\n",
       "ZTS                                               0.117647              102\n",
       "ZUO                                               0.343137              102\n",
       "\n",
       "[727 rows x 2 columns]"
      ],
      "text/html": "<div>\n<style scoped>\n    .dataframe tbody tr th:only-of-type {\n        vertical-align: middle;\n    }\n\n    .dataframe tbody tr th {\n        vertical-align: top;\n    }\n\n    .dataframe thead th {\n        text-align: right;\n    }\n</style>\n<table border=\"1\" class=\"dataframe\">\n  <thead>\n    <tr style=\"text-align: right;\">\n      <th></th>\n      <th>% Probability of Price = Close+10%, Close+22D From Trade</th>\n      <th>N_Trades</th>\n    </tr>\n    <tr>\n      <th>Symbols</th>\n      <th></th>\n      <th></th>\n    </tr>\n  </thead>\n  <tbody>\n    <tr>\n      <th>A</th>\n      <td>0.049020</td>\n      <td>102</td>\n    </tr>\n    <tr>\n      <th>AAL</th>\n      <td>0.352941</td>\n      <td>102</td>\n    </tr>\n    <tr>\n      <th>AAP</th>\n      <td>0.117647</td>\n      <td>102</td>\n    </tr>\n    <tr>\n      <th>AAPL</th>\n      <td>0.303922</td>\n      <td>102</td>\n    </tr>\n    <tr>\n      <th>ABBV</th>\n      <td>0.235294</td>\n      <td>102</td>\n    </tr>\n    <tr>\n      <th>...</th>\n      <td>...</td>\n      <td>...</td>\n    </tr>\n    <tr>\n      <th>ZION</th>\n      <td>0.313725</td>\n      <td>102</td>\n    </tr>\n    <tr>\n      <th>ZM</th>\n      <td>0.431373</td>\n      <td>102</td>\n    </tr>\n    <tr>\n      <th>ZS</th>\n      <td>0.362745</td>\n      <td>102</td>\n    </tr>\n    <tr>\n      <th>ZTS</th>\n      <td>0.117647</td>\n      <td>102</td>\n    </tr>\n    <tr>\n      <th>ZUO</th>\n      <td>0.343137</td>\n      <td>102</td>\n    </tr>\n  </tbody>\n</table>\n<p>727 rows × 2 columns</p>\n</div>"
     },
     "metadata": {},
     "execution_count": 26
    }
   ],
   "source": [
    "res"
   ]
  },
  {
   "cell_type": "code",
   "execution_count": null,
   "metadata": {},
   "outputs": [],
   "source": []
  }
 ]
}