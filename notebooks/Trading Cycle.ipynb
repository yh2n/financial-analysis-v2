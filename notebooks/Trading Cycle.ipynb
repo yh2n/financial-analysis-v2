{
 "metadata": {
  "language_info": {
   "codemirror_mode": {
    "name": "ipython",
    "version": 3
   },
   "file_extension": ".py",
   "mimetype": "text/x-python",
   "name": "python",
   "nbconvert_exporter": "python",
   "pygments_lexer": "ipython3",
   "version": "3.8.5"
  },
  "orig_nbformat": 4,
  "kernelspec": {
   "name": "python3",
   "display_name": "Python 3.8.5 64-bit"
  },
  "interpreter": {
   "hash": "592fe06e1aa9c5ffcf50d0e17bd8c4790f60cbab450546ecde41ac7d39605227"
  }
 },
 "nbformat": 4,
 "nbformat_minor": 2,
 "cells": [
  {
   "cell_type": "code",
   "execution_count": 1,
   "metadata": {},
   "outputs": [],
   "source": [
    "%load_ext autoreload\n",
    "%autoreload 2\n",
    "%matplotlib inline\n",
    "\n",
    "import pandas as pd\n",
    "import numpy as np\n",
    "from pathlib import Path\n",
    "import sys\n",
    "sys.path.append('../src')\n",
    "from utils.get_prices import get_prices\n",
    "from utils.load_bucket_prices import load_bucket_prices\n",
    "import matplotlib.dates as mdates\n",
    "import seaborn as sns\n",
    "from IPython.display import clear_output\n",
    "sns.set_theme()\n",
    "\n",
    "\n",
    "DATA_PATH = Path('../data')\n",
    "DATA_PATH_BASKETS = DATA_PATH / 'baskets'\n",
    "DATA_PATH_RAW = DATA_PATH / 'raw'\n",
    "DATA_PATH_PROCESSED = DATA_PATH / 'processed'\n",
    "OUTPUT_PATH = Path('../reports/charts')"
   ]
  },
  {
   "cell_type": "code",
   "execution_count": 3,
   "metadata": {},
   "outputs": [
    {
     "output_type": "stream",
     "name": "stdout",
     "text": [
      "Found existing data file. Reading...\n",
      "Data read from: ..\\data\\raw\\prc_trading_cycle_1997-07-07_2021-06-21_tiingo.csv\n",
      "(6030, 268)\n"
     ]
    },
    {
     "output_type": "execute_result",
     "data": {
      "text/plain": [
       "symbols                      AAL    AAPL    ABMD    ABNB     ABT    ADBE  \\\n",
       "date                                                                       \n",
       "2021-06-15 00:00:00+00:00  22.79  129.64  301.72  151.78  110.41  548.46   \n",
       "2021-06-16 00:00:00+00:00  22.83  130.15  303.30  149.15  110.06  543.33   \n",
       "2021-06-17 00:00:00+00:00  22.23  131.79  312.61  150.70  111.63  551.36   \n",
       "2021-06-18 00:00:00+00:00  22.29  130.46  318.57  152.52  110.33  565.59   \n",
       "2021-06-21 00:00:00+00:00  22.45  132.30  325.09  149.70  111.44  567.35   \n",
       "\n",
       "symbols                       ADI     AI    AIR   AJRD  ...   WORK   XENT  \\\n",
       "date                                                    ...                 \n",
       "2021-06-15 00:00:00+00:00  167.62  57.25  41.72  49.34  ...  44.63  17.05   \n",
       "2021-06-16 00:00:00+00:00  166.02  57.90  41.14  49.20  ...  44.31  16.96   \n",
       "2021-06-17 00:00:00+00:00  166.22  59.90  40.51  48.86  ...  44.50  16.73   \n",
       "2021-06-18 00:00:00+00:00  162.19  59.18  39.63  48.63  ...  44.25  16.34   \n",
       "2021-06-21 00:00:00+00:00  164.15  57.89  40.41  48.16  ...  44.57  16.22   \n",
       "\n",
       "symbols                      XLNX   YELP     ZBH     ZEN      ZG      ZM  \\\n",
       "date                                                                       \n",
       "2021-06-15 00:00:00+00:00  127.04  39.90  158.34  137.86  111.21  359.00   \n",
       "2021-06-16 00:00:00+00:00  126.18  41.32  158.03  138.97  108.84  361.83   \n",
       "2021-06-17 00:00:00+00:00  132.34  40.88  160.39  144.44  113.66  372.95   \n",
       "2021-06-18 00:00:00+00:00  131.92  38.83  158.51  145.93  117.99  374.24   \n",
       "2021-06-21 00:00:00+00:00  127.53  39.20  163.48  146.07  113.84  369.25   \n",
       "\n",
       "symbols                     ZNGA      ZS  \n",
       "date                                      \n",
       "2021-06-15 00:00:00+00:00  10.40  207.39  \n",
       "2021-06-16 00:00:00+00:00  10.29  212.27  \n",
       "2021-06-17 00:00:00+00:00  10.58  215.14  \n",
       "2021-06-18 00:00:00+00:00  10.32  218.60  \n",
       "2021-06-21 00:00:00+00:00  10.48  216.41  \n",
       "\n",
       "[5 rows x 268 columns]"
      ],
      "text/html": "<div>\n<style scoped>\n    .dataframe tbody tr th:only-of-type {\n        vertical-align: middle;\n    }\n\n    .dataframe tbody tr th {\n        vertical-align: top;\n    }\n\n    .dataframe thead th {\n        text-align: right;\n    }\n</style>\n<table border=\"1\" class=\"dataframe\">\n  <thead>\n    <tr style=\"text-align: right;\">\n      <th>symbols</th>\n      <th>AAL</th>\n      <th>AAPL</th>\n      <th>ABMD</th>\n      <th>ABNB</th>\n      <th>ABT</th>\n      <th>ADBE</th>\n      <th>ADI</th>\n      <th>AI</th>\n      <th>AIR</th>\n      <th>AJRD</th>\n      <th>...</th>\n      <th>WORK</th>\n      <th>XENT</th>\n      <th>XLNX</th>\n      <th>YELP</th>\n      <th>ZBH</th>\n      <th>ZEN</th>\n      <th>ZG</th>\n      <th>ZM</th>\n      <th>ZNGA</th>\n      <th>ZS</th>\n    </tr>\n    <tr>\n      <th>date</th>\n      <th></th>\n      <th></th>\n      <th></th>\n      <th></th>\n      <th></th>\n      <th></th>\n      <th></th>\n      <th></th>\n      <th></th>\n      <th></th>\n      <th></th>\n      <th></th>\n      <th></th>\n      <th></th>\n      <th></th>\n      <th></th>\n      <th></th>\n      <th></th>\n      <th></th>\n      <th></th>\n      <th></th>\n    </tr>\n  </thead>\n  <tbody>\n    <tr>\n      <th>2021-06-15 00:00:00+00:00</th>\n      <td>22.79</td>\n      <td>129.64</td>\n      <td>301.72</td>\n      <td>151.78</td>\n      <td>110.41</td>\n      <td>548.46</td>\n      <td>167.62</td>\n      <td>57.25</td>\n      <td>41.72</td>\n      <td>49.34</td>\n      <td>...</td>\n      <td>44.63</td>\n      <td>17.05</td>\n      <td>127.04</td>\n      <td>39.90</td>\n      <td>158.34</td>\n      <td>137.86</td>\n      <td>111.21</td>\n      <td>359.00</td>\n      <td>10.40</td>\n      <td>207.39</td>\n    </tr>\n    <tr>\n      <th>2021-06-16 00:00:00+00:00</th>\n      <td>22.83</td>\n      <td>130.15</td>\n      <td>303.30</td>\n      <td>149.15</td>\n      <td>110.06</td>\n      <td>543.33</td>\n      <td>166.02</td>\n      <td>57.90</td>\n      <td>41.14</td>\n      <td>49.20</td>\n      <td>...</td>\n      <td>44.31</td>\n      <td>16.96</td>\n      <td>126.18</td>\n      <td>41.32</td>\n      <td>158.03</td>\n      <td>138.97</td>\n      <td>108.84</td>\n      <td>361.83</td>\n      <td>10.29</td>\n      <td>212.27</td>\n    </tr>\n    <tr>\n      <th>2021-06-17 00:00:00+00:00</th>\n      <td>22.23</td>\n      <td>131.79</td>\n      <td>312.61</td>\n      <td>150.70</td>\n      <td>111.63</td>\n      <td>551.36</td>\n      <td>166.22</td>\n      <td>59.90</td>\n      <td>40.51</td>\n      <td>48.86</td>\n      <td>...</td>\n      <td>44.50</td>\n      <td>16.73</td>\n      <td>132.34</td>\n      <td>40.88</td>\n      <td>160.39</td>\n      <td>144.44</td>\n      <td>113.66</td>\n      <td>372.95</td>\n      <td>10.58</td>\n      <td>215.14</td>\n    </tr>\n    <tr>\n      <th>2021-06-18 00:00:00+00:00</th>\n      <td>22.29</td>\n      <td>130.46</td>\n      <td>318.57</td>\n      <td>152.52</td>\n      <td>110.33</td>\n      <td>565.59</td>\n      <td>162.19</td>\n      <td>59.18</td>\n      <td>39.63</td>\n      <td>48.63</td>\n      <td>...</td>\n      <td>44.25</td>\n      <td>16.34</td>\n      <td>131.92</td>\n      <td>38.83</td>\n      <td>158.51</td>\n      <td>145.93</td>\n      <td>117.99</td>\n      <td>374.24</td>\n      <td>10.32</td>\n      <td>218.60</td>\n    </tr>\n    <tr>\n      <th>2021-06-21 00:00:00+00:00</th>\n      <td>22.45</td>\n      <td>132.30</td>\n      <td>325.09</td>\n      <td>149.70</td>\n      <td>111.44</td>\n      <td>567.35</td>\n      <td>164.15</td>\n      <td>57.89</td>\n      <td>40.41</td>\n      <td>48.16</td>\n      <td>...</td>\n      <td>44.57</td>\n      <td>16.22</td>\n      <td>127.53</td>\n      <td>39.20</td>\n      <td>163.48</td>\n      <td>146.07</td>\n      <td>113.84</td>\n      <td>369.25</td>\n      <td>10.48</td>\n      <td>216.41</td>\n    </tr>\n  </tbody>\n</table>\n<p>5 rows × 268 columns</p>\n</div>"
     },
     "metadata": {},
     "execution_count": 3
    }
   ],
   "source": [
    "def _shift_date(date_str, offset, unit='D'):\n",
    "    date = pd.to_datetime(date_str)\n",
    "    date += pd.to_timedelta(offset, unit=unit)\n",
    "    return date.strftime('%Y-%m-%d')\n",
    "\n",
    "basket = 'trading_cycle'\n",
    "download_end = '2021-06-21'\n",
    "download_start = _shift_date(download_end, -250*5, 'W')\n",
    "prices = load_bucket_prices('../', download_start, download_end, 'tiingo', basket)['adj_close']\n",
    "print(prices.shape)\n",
    "prices.tail()"
   ]
  },
  {
   "cell_type": "code",
   "execution_count": 11,
   "metadata": {},
   "outputs": [],
   "source": [
    "def _rolling_stats(prices, n_weeks):\n",
    "    n_days = n_weeks * 5\n",
    "    df = pd.DataFrame()\n",
    "    df[f'ma_{n_weeks}'] = prices.rolling(n_days).mean()\n",
    "    df[f'high_{n_weeks}'] = prices.rolling(n_days).max()\n",
    "    df[f'low_{n_weeks}'] = prices.rolling(n_days).min()\n",
    "    return df\n",
    "\n",
    "\n",
    "def _relative_price_strength(df, ma_name):\n",
    "    n_weeks = int(ma_name.split('_')[1])\n",
    "    ma_bench = _rolling_stats(df['benchmark_price'], n_weeks)\n",
    "    rtn_stock = df[ma_name].iloc[-1] / df[ma_name].iloc[-n_weeks*5 - 1] - 1\n",
    "    rtn_bench = ma_bench[ma_name].iloc[-1] / ma_bench[ma_name].iloc[-n_weeks*5 - 1] - 1\n",
    "    return rtn_stock / rtn_bench\n",
    "\n",
    "\n",
    "def _ma_week_over_week_trend(ma):\n",
    "    ma_past = ma.iloc[-6]\n",
    "    ma_curr = ma.iloc[-1]\n",
    "    if pd.isnull(ma_past) or pd.isnull(ma_curr):\n",
    "        return ''\n",
    "    if ma_past <= ma_curr:\n",
    "        return 'Bullish'\n",
    "    else:\n",
    "        return 'Bearish'\n",
    "\n",
    "    \n",
    "def _price_vs_ma_trend(df, ma_name):\n",
    "    last_price = df['price'].iloc[-1]\n",
    "    last_ma = df[ma_name].iloc[-1]\n",
    "    n_weeks = int(ma_name.split('_')[1])\n",
    "    trend = _ma_week_over_week_trend(df[ma_name])    \n",
    "    if (trend == 'Bullish' and last_price < last_ma or\n",
    "        trend == 'Bearish' and last_price > last_ma):\n",
    "        trend += ' at Risk'\n",
    "    return trend\n",
    "\n",
    "\n",
    "def _last_4w_high_low(df, ma_name):\n",
    "    last_4w_high_idx = df[ma_name].tail(4*5).idxmax()\n",
    "    last_4w_low_idx = df[ma_name].tail(4*5).idxmin()\n",
    "    if last_4w_high_idx == df[ma_name].index[-1]:\n",
    "        return 'High'\n",
    "    elif last_4w_low_idx == df[ma_name].index[-1]:\n",
    "        return 'Low'\n",
    "    else:\n",
    "        return ''\n",
    "    \n",
    "\n",
    "def calc_trend(prices, ticker, benchmark, n_weeks):\n",
    "    p_tk = prices[tk]\n",
    "    p_bench = prices[benchmark]\n",
    "    p_relative = p_tk / p_bench\n",
    "\n",
    "    df = pd.DataFrame()\n",
    "    df['price'] = p_tk\n",
    "    df['benchmark_price'] = p_bench\n",
    "    for n_week in n_weeks:\n",
    "        df_stat = _rolling_stats(p_tk, n_week)\n",
    "        df_stat_rela = _rolling_stats(p_relative, n_week)\n",
    "        df_stat_rela.columns = df_stat_rela.columns + '_relative'\n",
    "        df = pd.concat([df, df_stat, df_stat_rela], axis=1)\n",
    "\n",
    "    # trends\n",
    "    res = pd.DataFrame({\n",
    "        'Ticker': tk,\n",
    "        'Price': df['price'].iloc[-1],\n",
    "        'Industry': '',\n",
    "        'Tactical Trend Relative Price Strength': _relative_price_strength(df, 'ma_40'),\n",
    "        '52W Relative Price Strength': _relative_price_strength(df, 'ma_52'),\n",
    "        '40W Trend': _price_vs_ma_trend(df, 'ma_40'),\n",
    "        f'40W Trend vs {benchmark}': _price_vs_ma_trend(df, 'ma_40_relative'),\n",
    "        '26W Trend': _price_vs_ma_trend(df, 'ma_26'),\n",
    "        f'26W Trend vs {benchmark}': _price_vs_ma_trend(df, 'ma_26_relative'),\n",
    "        '13W Trend': _price_vs_ma_trend(df, 'ma_13'),\n",
    "        f'13W Trend vs {benchmark}': _price_vs_ma_trend(df, 'ma_13_relative'),\n",
    "        '13W High/Low': _last_4w_high_low(df, 'ma_13'),\n",
    "        f'13W High/Low vs {benchmark}': _last_4w_high_low(df, 'ma_13_relative'),\n",
    "        '52W High/Low': _last_4w_high_low(df, 'ma_52'),\n",
    "        f'52W High/Low vs {benchmark}': _last_4w_high_low(df, 'ma_52_relative'),\n",
    "        '200W Trend': _price_vs_ma_trend(df, 'ma_200'),\n",
    "        f'200W Trend vs {benchmark}': _price_vs_ma_trend(df, 'ma_200_relative'),\n",
    "    }, index=[0])\n",
    "\n",
    "    return res\n"
   ]
  },
  {
   "cell_type": "code",
   "execution_count": 5,
   "metadata": {},
   "outputs": [
    {
     "output_type": "stream",
     "name": "stdout",
     "text": [
      "Calculating: ZS\n",
      "Done!\n"
     ]
    }
   ],
   "source": [
    "n_weeks = [13, 26, 40, 52, 200] # in weeks\n",
    "benchmark = 'SPY'\n",
    "df_list = []\n",
    "for tk in prices.columns:\n",
    "    clear_output(wait=True)\n",
    "    print(\"Calculating: \" + tk)\n",
    "    if tk != benchmark:\n",
    "        df_list.append(calc_trend(prices, tk, benchmark, n_weeks))\n",
    "print(\"Done!\")\n"
   ]
  },
  {
   "cell_type": "code",
   "execution_count": 10,
   "metadata": {},
   "outputs": [],
   "source": [
    "df = pd.concat(df_list, axis=0)\n",
    "df = df.sort_values('Tactical Trend Relative Price Strength', ascending=False)\n",
    "filename = 'trading_cycle.csv'\n",
    "df.to_csv(DATA_PATH_PROCESSED / filename, index=False)"
   ]
  }
 ]
}